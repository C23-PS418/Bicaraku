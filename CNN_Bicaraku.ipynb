{
  "nbformat": 4,
  "nbformat_minor": 0,
  "metadata": {
    "colab": {
      "provenance": [],
      "gpuType": "T4",
      "include_colab_link": true
    },
    "kernelspec": {
      "name": "python3",
      "display_name": "Python 3"
    },
    "language_info": {
      "name": "python"
    },
    "accelerator": "GPU",
    "gpuClass": "standard"
  },
  "cells": [
    {
      "cell_type": "markdown",
      "metadata": {
        "id": "view-in-github",
        "colab_type": "text"
      },
      "source": [
        "<a href=\"https://colab.research.google.com/github/C23-PS418/Bicaraku/blob/ML/CNN_Bicaraku.ipynb\" target=\"_parent\"><img src=\"https://colab.research.google.com/assets/colab-badge.svg\" alt=\"Open In Colab\"/></a>"
      ]
    },
    {
      "cell_type": "code",
      "source": [
        "#!pip install tensorflowjs"
      ],
      "metadata": {
        "id": "P7qcGzYZOSLw"
      },
      "execution_count": null,
      "outputs": []
    },
    {
      "cell_type": "code",
      "execution_count": null,
      "metadata": {
        "colab": {
          "base_uri": "https://localhost:8080/"
        },
        "id": "-j_nI5deed4E",
        "outputId": "166639e9-afa3-49b3-8d82-78791b55257a"
      },
      "outputs": [
        {
          "output_type": "stream",
          "name": "stdout",
          "text": [
            "/usr/local/lib/python3.10/dist-packages/gdown/cli.py:121: FutureWarning: Option `--id` was deprecated in version 4.3.1 and will be removed in 5.0. You don't need to pass it anymore to use a file ID.\n",
            "  warnings.warn(\n",
            "Downloading...\n",
            "From: https://drive.google.com/uc?id=1OafUwixUVnq_7tdAfh_D8NetXec-46Wa\n",
            "To: /content/train_alphabet2.csv\n",
            "100% 239M/239M [00:01<00:00, 126MB/s]\n",
            "/usr/local/lib/python3.10/dist-packages/gdown/cli.py:121: FutureWarning: Option `--id` was deprecated in version 4.3.1 and will be removed in 5.0. You don't need to pass it anymore to use a file ID.\n",
            "  warnings.warn(\n",
            "Downloading...\n",
            "From: https://drive.google.com/uc?id=17zmAWDVNs3vzSd7u2ZJaxy4G-ZsBix-I\n",
            "To: /content/validation_alphabet2.csv\n",
            "100% 29.5M/29.5M [00:00<00:00, 154MB/s] \n",
            "/usr/local/lib/python3.10/dist-packages/gdown/cli.py:121: FutureWarning: Option `--id` was deprecated in version 4.3.1 and will be removed in 5.0. You don't need to pass it anymore to use a file ID.\n",
            "  warnings.warn(\n",
            "Downloading...\n",
            "From: https://drive.google.com/uc?id=1dOv1svlhrxYfi-o0Tj1WduBr9pdgjCOs\n",
            "To: /content/test_alphabet2.csv\n",
            "100% 29.4M/29.4M [00:00<00:00, 140MB/s]\n"
          ]
        }
      ],
      "source": [
        "!gdown --id 1OafUwixUVnq_7tdAfh_D8NetXec-46Wa\n",
        "!gdown --id 17zmAWDVNs3vzSd7u2ZJaxy4G-ZsBix-I\n",
        "!gdown --id 1dOv1svlhrxYfi-o0Tj1WduBr9pdgjCOs"
      ]
    },
    {
      "cell_type": "code",
      "source": [
        "import pandas as pd\n",
        "import tensorflow as tf\n",
        "import csv\n",
        "import random"
      ],
      "metadata": {
        "id": "e8KTED8IfZr3"
      },
      "execution_count": 2,
      "outputs": []
    },
    {
      "cell_type": "code",
      "source": [
        "# Shuffle CSV rows\n",
        "\n",
        "list_datasets = ['train_alphabet2.csv', 'validation_alphabet2.csv', 'test_alphabet2.csv']\n",
        "\n",
        "for dataset in list_datasets:\n",
        "\n",
        "  # Read the CSV file\n",
        "  with open(dataset, 'r') as file:\n",
        "    reader = csv.reader(file)\n",
        "    rows = list(reader)\n",
        "\n",
        "  # Shuffle the rows\n",
        "  random.shuffle(rows)\n",
        "\n",
        "  # Write the shuffled rows to a new CSV file\n",
        "  with open(dataset, 'w', newline='') as file:\n",
        "    writer = csv.writer(file)\n",
        "    writer.writerows(rows)"
      ],
      "metadata": {
        "id": "9-HBto-76_Nz"
      },
      "execution_count": 3,
      "outputs": []
    },
    {
      "cell_type": "code",
      "source": [
        "train_df = pd.read_csv('train_alphabet2.csv')\n",
        "val_df = pd.read_csv('validation_alphabet2.csv')\n",
        "test_df = pd.read_csv('test_alphabet2.csv')\n",
        "\n",
        "train_df.head()"
      ],
      "metadata": {
        "colab": {
          "base_uri": "https://localhost:8080/",
          "height": 236
        },
        "id": "GAIFRIEUf_mE",
        "outputId": "d98d2168-7ebd-46d1-8950-a9dfaf72c258"
      },
      "execution_count": 16,
      "outputs": [
        {
          "output_type": "execute_result",
          "data": {
            "text/plain": [
              "   F   53   55  53.1   44   43   47  55.1   71   73  ...  39.13  44.25  37.15  \\\n",
              "0  C  172  173   173  173  173  174   175  175  177  ...    172    171    170   \n",
              "1  D  174  175   176  175  176  176   175  174  172  ...    142    142    142   \n",
              "2  Z   51   70    68   71   80   89    96  100  102  ...     92     92     93   \n",
              "3  Y   51   69    64   63   59   55    52   50   47  ...     22     57    127   \n",
              "4  F  174  174   175  176  177  177   176  176  177  ...    176    180    181   \n",
              "\n",
              "   38.12  60.30  53.26  47.22  47.23  44.26  49.28  \n",
              "0    170    171    170    168    167    166    165  \n",
              "1    141    142    140    141    141    139    137  \n",
              "2     93     93     92     92     92     93     80  \n",
              "3    124    123    123    123    124    126    106  \n",
              "4    181    181    179    176    175    173    170  \n",
              "\n",
              "[5 rows x 2501 columns]"
            ],
            "text/html": [
              "\n",
              "  <div id=\"df-0d335546-0c94-4f36-9e96-f66da5380583\">\n",
              "    <div class=\"colab-df-container\">\n",
              "      <div>\n",
              "<style scoped>\n",
              "    .dataframe tbody tr th:only-of-type {\n",
              "        vertical-align: middle;\n",
              "    }\n",
              "\n",
              "    .dataframe tbody tr th {\n",
              "        vertical-align: top;\n",
              "    }\n",
              "\n",
              "    .dataframe thead th {\n",
              "        text-align: right;\n",
              "    }\n",
              "</style>\n",
              "<table border=\"1\" class=\"dataframe\">\n",
              "  <thead>\n",
              "    <tr style=\"text-align: right;\">\n",
              "      <th></th>\n",
              "      <th>F</th>\n",
              "      <th>53</th>\n",
              "      <th>55</th>\n",
              "      <th>53.1</th>\n",
              "      <th>44</th>\n",
              "      <th>43</th>\n",
              "      <th>47</th>\n",
              "      <th>55.1</th>\n",
              "      <th>71</th>\n",
              "      <th>73</th>\n",
              "      <th>...</th>\n",
              "      <th>39.13</th>\n",
              "      <th>44.25</th>\n",
              "      <th>37.15</th>\n",
              "      <th>38.12</th>\n",
              "      <th>60.30</th>\n",
              "      <th>53.26</th>\n",
              "      <th>47.22</th>\n",
              "      <th>47.23</th>\n",
              "      <th>44.26</th>\n",
              "      <th>49.28</th>\n",
              "    </tr>\n",
              "  </thead>\n",
              "  <tbody>\n",
              "    <tr>\n",
              "      <th>0</th>\n",
              "      <td>C</td>\n",
              "      <td>172</td>\n",
              "      <td>173</td>\n",
              "      <td>173</td>\n",
              "      <td>173</td>\n",
              "      <td>173</td>\n",
              "      <td>174</td>\n",
              "      <td>175</td>\n",
              "      <td>175</td>\n",
              "      <td>177</td>\n",
              "      <td>...</td>\n",
              "      <td>172</td>\n",
              "      <td>171</td>\n",
              "      <td>170</td>\n",
              "      <td>170</td>\n",
              "      <td>171</td>\n",
              "      <td>170</td>\n",
              "      <td>168</td>\n",
              "      <td>167</td>\n",
              "      <td>166</td>\n",
              "      <td>165</td>\n",
              "    </tr>\n",
              "    <tr>\n",
              "      <th>1</th>\n",
              "      <td>D</td>\n",
              "      <td>174</td>\n",
              "      <td>175</td>\n",
              "      <td>176</td>\n",
              "      <td>175</td>\n",
              "      <td>176</td>\n",
              "      <td>176</td>\n",
              "      <td>175</td>\n",
              "      <td>174</td>\n",
              "      <td>172</td>\n",
              "      <td>...</td>\n",
              "      <td>142</td>\n",
              "      <td>142</td>\n",
              "      <td>142</td>\n",
              "      <td>141</td>\n",
              "      <td>142</td>\n",
              "      <td>140</td>\n",
              "      <td>141</td>\n",
              "      <td>141</td>\n",
              "      <td>139</td>\n",
              "      <td>137</td>\n",
              "    </tr>\n",
              "    <tr>\n",
              "      <th>2</th>\n",
              "      <td>Z</td>\n",
              "      <td>51</td>\n",
              "      <td>70</td>\n",
              "      <td>68</td>\n",
              "      <td>71</td>\n",
              "      <td>80</td>\n",
              "      <td>89</td>\n",
              "      <td>96</td>\n",
              "      <td>100</td>\n",
              "      <td>102</td>\n",
              "      <td>...</td>\n",
              "      <td>92</td>\n",
              "      <td>92</td>\n",
              "      <td>93</td>\n",
              "      <td>93</td>\n",
              "      <td>93</td>\n",
              "      <td>92</td>\n",
              "      <td>92</td>\n",
              "      <td>92</td>\n",
              "      <td>93</td>\n",
              "      <td>80</td>\n",
              "    </tr>\n",
              "    <tr>\n",
              "      <th>3</th>\n",
              "      <td>Y</td>\n",
              "      <td>51</td>\n",
              "      <td>69</td>\n",
              "      <td>64</td>\n",
              "      <td>63</td>\n",
              "      <td>59</td>\n",
              "      <td>55</td>\n",
              "      <td>52</td>\n",
              "      <td>50</td>\n",
              "      <td>47</td>\n",
              "      <td>...</td>\n",
              "      <td>22</td>\n",
              "      <td>57</td>\n",
              "      <td>127</td>\n",
              "      <td>124</td>\n",
              "      <td>123</td>\n",
              "      <td>123</td>\n",
              "      <td>123</td>\n",
              "      <td>124</td>\n",
              "      <td>126</td>\n",
              "      <td>106</td>\n",
              "    </tr>\n",
              "    <tr>\n",
              "      <th>4</th>\n",
              "      <td>F</td>\n",
              "      <td>174</td>\n",
              "      <td>174</td>\n",
              "      <td>175</td>\n",
              "      <td>176</td>\n",
              "      <td>177</td>\n",
              "      <td>177</td>\n",
              "      <td>176</td>\n",
              "      <td>176</td>\n",
              "      <td>177</td>\n",
              "      <td>...</td>\n",
              "      <td>176</td>\n",
              "      <td>180</td>\n",
              "      <td>181</td>\n",
              "      <td>181</td>\n",
              "      <td>181</td>\n",
              "      <td>179</td>\n",
              "      <td>176</td>\n",
              "      <td>175</td>\n",
              "      <td>173</td>\n",
              "      <td>170</td>\n",
              "    </tr>\n",
              "  </tbody>\n",
              "</table>\n",
              "<p>5 rows × 2501 columns</p>\n",
              "</div>\n",
              "      <button class=\"colab-df-convert\" onclick=\"convertToInteractive('df-0d335546-0c94-4f36-9e96-f66da5380583')\"\n",
              "              title=\"Convert this dataframe to an interactive table.\"\n",
              "              style=\"display:none;\">\n",
              "        \n",
              "  <svg xmlns=\"http://www.w3.org/2000/svg\" height=\"24px\"viewBox=\"0 0 24 24\"\n",
              "       width=\"24px\">\n",
              "    <path d=\"M0 0h24v24H0V0z\" fill=\"none\"/>\n",
              "    <path d=\"M18.56 5.44l.94 2.06.94-2.06 2.06-.94-2.06-.94-.94-2.06-.94 2.06-2.06.94zm-11 1L8.5 8.5l.94-2.06 2.06-.94-2.06-.94L8.5 2.5l-.94 2.06-2.06.94zm10 10l.94 2.06.94-2.06 2.06-.94-2.06-.94-.94-2.06-.94 2.06-2.06.94z\"/><path d=\"M17.41 7.96l-1.37-1.37c-.4-.4-.92-.59-1.43-.59-.52 0-1.04.2-1.43.59L10.3 9.45l-7.72 7.72c-.78.78-.78 2.05 0 2.83L4 21.41c.39.39.9.59 1.41.59.51 0 1.02-.2 1.41-.59l7.78-7.78 2.81-2.81c.8-.78.8-2.07 0-2.86zM5.41 20L4 18.59l7.72-7.72 1.47 1.35L5.41 20z\"/>\n",
              "  </svg>\n",
              "      </button>\n",
              "      \n",
              "  <style>\n",
              "    .colab-df-container {\n",
              "      display:flex;\n",
              "      flex-wrap:wrap;\n",
              "      gap: 12px;\n",
              "    }\n",
              "\n",
              "    .colab-df-convert {\n",
              "      background-color: #E8F0FE;\n",
              "      border: none;\n",
              "      border-radius: 50%;\n",
              "      cursor: pointer;\n",
              "      display: none;\n",
              "      fill: #1967D2;\n",
              "      height: 32px;\n",
              "      padding: 0 0 0 0;\n",
              "      width: 32px;\n",
              "    }\n",
              "\n",
              "    .colab-df-convert:hover {\n",
              "      background-color: #E2EBFA;\n",
              "      box-shadow: 0px 1px 2px rgba(60, 64, 67, 0.3), 0px 1px 3px 1px rgba(60, 64, 67, 0.15);\n",
              "      fill: #174EA6;\n",
              "    }\n",
              "\n",
              "    [theme=dark] .colab-df-convert {\n",
              "      background-color: #3B4455;\n",
              "      fill: #D2E3FC;\n",
              "    }\n",
              "\n",
              "    [theme=dark] .colab-df-convert:hover {\n",
              "      background-color: #434B5C;\n",
              "      box-shadow: 0px 1px 3px 1px rgba(0, 0, 0, 0.15);\n",
              "      filter: drop-shadow(0px 1px 2px rgba(0, 0, 0, 0.3));\n",
              "      fill: #FFFFFF;\n",
              "    }\n",
              "  </style>\n",
              "\n",
              "      <script>\n",
              "        const buttonEl =\n",
              "          document.querySelector('#df-0d335546-0c94-4f36-9e96-f66da5380583 button.colab-df-convert');\n",
              "        buttonEl.style.display =\n",
              "          google.colab.kernel.accessAllowed ? 'block' : 'none';\n",
              "\n",
              "        async function convertToInteractive(key) {\n",
              "          const element = document.querySelector('#df-0d335546-0c94-4f36-9e96-f66da5380583');\n",
              "          const dataTable =\n",
              "            await google.colab.kernel.invokeFunction('convertToInteractive',\n",
              "                                                     [key], {});\n",
              "          if (!dataTable) return;\n",
              "\n",
              "          const docLinkHtml = 'Like what you see? Visit the ' +\n",
              "            '<a target=\"_blank\" href=https://colab.research.google.com/notebooks/data_table.ipynb>data table notebook</a>'\n",
              "            + ' to learn more about interactive tables.';\n",
              "          element.innerHTML = '';\n",
              "          dataTable['output_type'] = 'display_data';\n",
              "          await google.colab.output.renderOutput(dataTable, element);\n",
              "          const docLink = document.createElement('div');\n",
              "          docLink.innerHTML = docLinkHtml;\n",
              "          element.appendChild(docLink);\n",
              "        }\n",
              "      </script>\n",
              "    </div>\n",
              "  </div>\n",
              "  "
            ]
          },
          "metadata": {},
          "execution_count": 16
        }
      ]
    },
    {
      "cell_type": "code",
      "source": [
        "train_label = train_df[train_df.columns[0]]\n",
        "val_label = val_df[val_df.columns[0]]\n",
        "test_label = test_df[test_df.columns[0]]\n",
        "\n",
        "print(train_label.shape)"
      ],
      "metadata": {
        "colab": {
          "base_uri": "https://localhost:8080/"
        },
        "id": "Um-K6fpUgRtn",
        "outputId": "efe4d44e-260b-4ee7-a13c-f5d6ed08add6"
      },
      "execution_count": 17,
      "outputs": [
        {
          "output_type": "stream",
          "name": "stdout",
          "text": [
            "(25998,)\n"
          ]
        }
      ]
    },
    {
      "cell_type": "code",
      "source": [
        "train_df.drop(columns=train_df.columns[0], axis=1, inplace=True)\n",
        "val_df.drop(columns=val_df.columns[0], axis=1, inplace=True)\n",
        "test_df.drop(columns=test_df.columns[0], axis=1, inplace=True)\n",
        "\n",
        "train_df.head(5)"
      ],
      "metadata": {
        "colab": {
          "base_uri": "https://localhost:8080/",
          "height": 236
        },
        "id": "zy7oTwzHjV0j",
        "outputId": "cab86a6f-6332-41d0-9635-422f9b691042"
      },
      "execution_count": 18,
      "outputs": [
        {
          "output_type": "execute_result",
          "data": {
            "text/plain": [
              "    53   55  53.1   44   43   47  55.1   71   73   91  ...  39.13  44.25  \\\n",
              "0  172  173   173  173  173  174   175  175  177  178  ...    172    171   \n",
              "1  174  175   176  175  176  176   175  174  172  171  ...    142    142   \n",
              "2   51   70    68   71   80   89    96  100  102   99  ...     92     92   \n",
              "3   51   69    64   63   59   55    52   50   47   46  ...     22     57   \n",
              "4  174  174   175  176  177  177   176  176  177  176  ...    176    180   \n",
              "\n",
              "   37.15  38.12  60.30  53.26  47.22  47.23  44.26  49.28  \n",
              "0    170    170    171    170    168    167    166    165  \n",
              "1    142    141    142    140    141    141    139    137  \n",
              "2     93     93     93     92     92     92     93     80  \n",
              "3    127    124    123    123    123    124    126    106  \n",
              "4    181    181    181    179    176    175    173    170  \n",
              "\n",
              "[5 rows x 2500 columns]"
            ],
            "text/html": [
              "\n",
              "  <div id=\"df-a581a15c-a656-4fcf-865b-b0d4329a34d2\">\n",
              "    <div class=\"colab-df-container\">\n",
              "      <div>\n",
              "<style scoped>\n",
              "    .dataframe tbody tr th:only-of-type {\n",
              "        vertical-align: middle;\n",
              "    }\n",
              "\n",
              "    .dataframe tbody tr th {\n",
              "        vertical-align: top;\n",
              "    }\n",
              "\n",
              "    .dataframe thead th {\n",
              "        text-align: right;\n",
              "    }\n",
              "</style>\n",
              "<table border=\"1\" class=\"dataframe\">\n",
              "  <thead>\n",
              "    <tr style=\"text-align: right;\">\n",
              "      <th></th>\n",
              "      <th>53</th>\n",
              "      <th>55</th>\n",
              "      <th>53.1</th>\n",
              "      <th>44</th>\n",
              "      <th>43</th>\n",
              "      <th>47</th>\n",
              "      <th>55.1</th>\n",
              "      <th>71</th>\n",
              "      <th>73</th>\n",
              "      <th>91</th>\n",
              "      <th>...</th>\n",
              "      <th>39.13</th>\n",
              "      <th>44.25</th>\n",
              "      <th>37.15</th>\n",
              "      <th>38.12</th>\n",
              "      <th>60.30</th>\n",
              "      <th>53.26</th>\n",
              "      <th>47.22</th>\n",
              "      <th>47.23</th>\n",
              "      <th>44.26</th>\n",
              "      <th>49.28</th>\n",
              "    </tr>\n",
              "  </thead>\n",
              "  <tbody>\n",
              "    <tr>\n",
              "      <th>0</th>\n",
              "      <td>172</td>\n",
              "      <td>173</td>\n",
              "      <td>173</td>\n",
              "      <td>173</td>\n",
              "      <td>173</td>\n",
              "      <td>174</td>\n",
              "      <td>175</td>\n",
              "      <td>175</td>\n",
              "      <td>177</td>\n",
              "      <td>178</td>\n",
              "      <td>...</td>\n",
              "      <td>172</td>\n",
              "      <td>171</td>\n",
              "      <td>170</td>\n",
              "      <td>170</td>\n",
              "      <td>171</td>\n",
              "      <td>170</td>\n",
              "      <td>168</td>\n",
              "      <td>167</td>\n",
              "      <td>166</td>\n",
              "      <td>165</td>\n",
              "    </tr>\n",
              "    <tr>\n",
              "      <th>1</th>\n",
              "      <td>174</td>\n",
              "      <td>175</td>\n",
              "      <td>176</td>\n",
              "      <td>175</td>\n",
              "      <td>176</td>\n",
              "      <td>176</td>\n",
              "      <td>175</td>\n",
              "      <td>174</td>\n",
              "      <td>172</td>\n",
              "      <td>171</td>\n",
              "      <td>...</td>\n",
              "      <td>142</td>\n",
              "      <td>142</td>\n",
              "      <td>142</td>\n",
              "      <td>141</td>\n",
              "      <td>142</td>\n",
              "      <td>140</td>\n",
              "      <td>141</td>\n",
              "      <td>141</td>\n",
              "      <td>139</td>\n",
              "      <td>137</td>\n",
              "    </tr>\n",
              "    <tr>\n",
              "      <th>2</th>\n",
              "      <td>51</td>\n",
              "      <td>70</td>\n",
              "      <td>68</td>\n",
              "      <td>71</td>\n",
              "      <td>80</td>\n",
              "      <td>89</td>\n",
              "      <td>96</td>\n",
              "      <td>100</td>\n",
              "      <td>102</td>\n",
              "      <td>99</td>\n",
              "      <td>...</td>\n",
              "      <td>92</td>\n",
              "      <td>92</td>\n",
              "      <td>93</td>\n",
              "      <td>93</td>\n",
              "      <td>93</td>\n",
              "      <td>92</td>\n",
              "      <td>92</td>\n",
              "      <td>92</td>\n",
              "      <td>93</td>\n",
              "      <td>80</td>\n",
              "    </tr>\n",
              "    <tr>\n",
              "      <th>3</th>\n",
              "      <td>51</td>\n",
              "      <td>69</td>\n",
              "      <td>64</td>\n",
              "      <td>63</td>\n",
              "      <td>59</td>\n",
              "      <td>55</td>\n",
              "      <td>52</td>\n",
              "      <td>50</td>\n",
              "      <td>47</td>\n",
              "      <td>46</td>\n",
              "      <td>...</td>\n",
              "      <td>22</td>\n",
              "      <td>57</td>\n",
              "      <td>127</td>\n",
              "      <td>124</td>\n",
              "      <td>123</td>\n",
              "      <td>123</td>\n",
              "      <td>123</td>\n",
              "      <td>124</td>\n",
              "      <td>126</td>\n",
              "      <td>106</td>\n",
              "    </tr>\n",
              "    <tr>\n",
              "      <th>4</th>\n",
              "      <td>174</td>\n",
              "      <td>174</td>\n",
              "      <td>175</td>\n",
              "      <td>176</td>\n",
              "      <td>177</td>\n",
              "      <td>177</td>\n",
              "      <td>176</td>\n",
              "      <td>176</td>\n",
              "      <td>177</td>\n",
              "      <td>176</td>\n",
              "      <td>...</td>\n",
              "      <td>176</td>\n",
              "      <td>180</td>\n",
              "      <td>181</td>\n",
              "      <td>181</td>\n",
              "      <td>181</td>\n",
              "      <td>179</td>\n",
              "      <td>176</td>\n",
              "      <td>175</td>\n",
              "      <td>173</td>\n",
              "      <td>170</td>\n",
              "    </tr>\n",
              "  </tbody>\n",
              "</table>\n",
              "<p>5 rows × 2500 columns</p>\n",
              "</div>\n",
              "      <button class=\"colab-df-convert\" onclick=\"convertToInteractive('df-a581a15c-a656-4fcf-865b-b0d4329a34d2')\"\n",
              "              title=\"Convert this dataframe to an interactive table.\"\n",
              "              style=\"display:none;\">\n",
              "        \n",
              "  <svg xmlns=\"http://www.w3.org/2000/svg\" height=\"24px\"viewBox=\"0 0 24 24\"\n",
              "       width=\"24px\">\n",
              "    <path d=\"M0 0h24v24H0V0z\" fill=\"none\"/>\n",
              "    <path d=\"M18.56 5.44l.94 2.06.94-2.06 2.06-.94-2.06-.94-.94-2.06-.94 2.06-2.06.94zm-11 1L8.5 8.5l.94-2.06 2.06-.94-2.06-.94L8.5 2.5l-.94 2.06-2.06.94zm10 10l.94 2.06.94-2.06 2.06-.94-2.06-.94-.94-2.06-.94 2.06-2.06.94z\"/><path d=\"M17.41 7.96l-1.37-1.37c-.4-.4-.92-.59-1.43-.59-.52 0-1.04.2-1.43.59L10.3 9.45l-7.72 7.72c-.78.78-.78 2.05 0 2.83L4 21.41c.39.39.9.59 1.41.59.51 0 1.02-.2 1.41-.59l7.78-7.78 2.81-2.81c.8-.78.8-2.07 0-2.86zM5.41 20L4 18.59l7.72-7.72 1.47 1.35L5.41 20z\"/>\n",
              "  </svg>\n",
              "      </button>\n",
              "      \n",
              "  <style>\n",
              "    .colab-df-container {\n",
              "      display:flex;\n",
              "      flex-wrap:wrap;\n",
              "      gap: 12px;\n",
              "    }\n",
              "\n",
              "    .colab-df-convert {\n",
              "      background-color: #E8F0FE;\n",
              "      border: none;\n",
              "      border-radius: 50%;\n",
              "      cursor: pointer;\n",
              "      display: none;\n",
              "      fill: #1967D2;\n",
              "      height: 32px;\n",
              "      padding: 0 0 0 0;\n",
              "      width: 32px;\n",
              "    }\n",
              "\n",
              "    .colab-df-convert:hover {\n",
              "      background-color: #E2EBFA;\n",
              "      box-shadow: 0px 1px 2px rgba(60, 64, 67, 0.3), 0px 1px 3px 1px rgba(60, 64, 67, 0.15);\n",
              "      fill: #174EA6;\n",
              "    }\n",
              "\n",
              "    [theme=dark] .colab-df-convert {\n",
              "      background-color: #3B4455;\n",
              "      fill: #D2E3FC;\n",
              "    }\n",
              "\n",
              "    [theme=dark] .colab-df-convert:hover {\n",
              "      background-color: #434B5C;\n",
              "      box-shadow: 0px 1px 3px 1px rgba(0, 0, 0, 0.15);\n",
              "      filter: drop-shadow(0px 1px 2px rgba(0, 0, 0, 0.3));\n",
              "      fill: #FFFFFF;\n",
              "    }\n",
              "  </style>\n",
              "\n",
              "      <script>\n",
              "        const buttonEl =\n",
              "          document.querySelector('#df-a581a15c-a656-4fcf-865b-b0d4329a34d2 button.colab-df-convert');\n",
              "        buttonEl.style.display =\n",
              "          google.colab.kernel.accessAllowed ? 'block' : 'none';\n",
              "\n",
              "        async function convertToInteractive(key) {\n",
              "          const element = document.querySelector('#df-a581a15c-a656-4fcf-865b-b0d4329a34d2');\n",
              "          const dataTable =\n",
              "            await google.colab.kernel.invokeFunction('convertToInteractive',\n",
              "                                                     [key], {});\n",
              "          if (!dataTable) return;\n",
              "\n",
              "          const docLinkHtml = 'Like what you see? Visit the ' +\n",
              "            '<a target=\"_blank\" href=https://colab.research.google.com/notebooks/data_table.ipynb>data table notebook</a>'\n",
              "            + ' to learn more about interactive tables.';\n",
              "          element.innerHTML = '';\n",
              "          dataTable['output_type'] = 'display_data';\n",
              "          await google.colab.output.renderOutput(dataTable, element);\n",
              "          const docLink = document.createElement('div');\n",
              "          docLink.innerHTML = docLinkHtml;\n",
              "          element.appendChild(docLink);\n",
              "        }\n",
              "      </script>\n",
              "    </div>\n",
              "  </div>\n",
              "  "
            ]
          },
          "metadata": {},
          "execution_count": 18
        }
      ]
    },
    {
      "cell_type": "code",
      "source": [
        "train_data = train_df.values\n",
        "val_data = val_df.values\n",
        "test_data = test_df.values\n",
        "\n",
        "train_data.shape"
      ],
      "metadata": {
        "colab": {
          "base_uri": "https://localhost:8080/"
        },
        "id": "Rq2SG7UbjxPC",
        "outputId": "ce739155-0fff-46a2-acc9-3d425e6c5d85"
      },
      "execution_count": 19,
      "outputs": [
        {
          "output_type": "execute_result",
          "data": {
            "text/plain": [
              "(25998, 2500)"
            ]
          },
          "metadata": {},
          "execution_count": 19
        }
      ]
    },
    {
      "cell_type": "code",
      "source": [
        "from sklearn.preprocessing import LabelBinarizer\n",
        "label_binarizer = LabelBinarizer()\n",
        "train_label = label_binarizer.fit_transform(train_label)\n",
        "val_label = label_binarizer.fit_transform(val_label)\n",
        "test_label = label_binarizer.fit_transform(test_label)\n",
        "train_label[:5]"
      ],
      "metadata": {
        "id": "fCJTb9Vu02cS",
        "colab": {
          "base_uri": "https://localhost:8080/"
        },
        "outputId": "278142c2-0264-4ad7-f894-dcd31f27104b"
      },
      "execution_count": 20,
      "outputs": [
        {
          "output_type": "execute_result",
          "data": {
            "text/plain": [
              "array([[0, 0, 1, 0, 0, 0, 0, 0, 0, 0, 0, 0, 0, 0, 0, 0, 0, 0, 0, 0, 0, 0,\n",
              "        0, 0, 0, 0],\n",
              "       [0, 0, 0, 1, 0, 0, 0, 0, 0, 0, 0, 0, 0, 0, 0, 0, 0, 0, 0, 0, 0, 0,\n",
              "        0, 0, 0, 0],\n",
              "       [0, 0, 0, 0, 0, 0, 0, 0, 0, 0, 0, 0, 0, 0, 0, 0, 0, 0, 0, 0, 0, 0,\n",
              "        0, 0, 0, 1],\n",
              "       [0, 0, 0, 0, 0, 0, 0, 0, 0, 0, 0, 0, 0, 0, 0, 0, 0, 0, 0, 0, 0, 0,\n",
              "        0, 0, 1, 0],\n",
              "       [0, 0, 0, 0, 0, 1, 0, 0, 0, 0, 0, 0, 0, 0, 0, 0, 0, 0, 0, 0, 0, 0,\n",
              "        0, 0, 0, 0]])"
            ]
          },
          "metadata": {},
          "execution_count": 20
        }
      ]
    },
    {
      "cell_type": "code",
      "source": [
        "# Normalize the data\n",
        "train_data = train_data / 255.0\n",
        "val_data = val_data / 255.0\n",
        "test_data = test_data / 255.0"
      ],
      "metadata": {
        "id": "4duFgQcbn-un"
      },
      "execution_count": 21,
      "outputs": []
    },
    {
      "cell_type": "code",
      "source": [
        "# Reshaping the data from 1-D to 3-D as required through input by CNN's\n",
        "train_data = train_data.reshape(-1,50,50,1)\n",
        "val_data = val_data.reshape(-1,50,50,1)\n",
        "test_data = test_data.reshape(-1,50,50,1)"
      ],
      "metadata": {
        "id": "rGqlR27Nod01"
      },
      "execution_count": 22,
      "outputs": []
    },
    {
      "cell_type": "code",
      "source": [
        "import matplotlib.pyplot as plt\n",
        "\n",
        "f, ax = plt.subplots(2,5) \n",
        "f.set_size_inches(10, 10)\n",
        "k = 0\n",
        "for i in range(2):\n",
        "    for j in range(5):\n",
        "        ax[i,j].imshow(train_data[k].reshape(50, 50), cmap='gray')\n",
        "        k += 1\n",
        "    plt.tight_layout()    "
      ],
      "metadata": {
        "colab": {
          "base_uri": "https://localhost:8080/",
          "height": 542
        },
        "id": "2yD6doxco7MF",
        "outputId": "381c2d88-c4b5-4da2-a9a4-48d56dc4b83c"
      },
      "execution_count": 23,
      "outputs": [
        {
          "output_type": "display_data",
          "data": {
            "text/plain": [
              "<Figure size 1000x1000 with 10 Axes>"
            ],
            "image/png": "[encoded data removed]"
          },
          "metadata": {}
        }
      ]
    },
    {
      "cell_type": "code",
      "source": [
        "# With data augmentation to prevent overfitting\n",
        "\n",
        "datagen = tf.keras.preprocessing.image.ImageDataGenerator(\n",
        "        featurewise_center=False,  # set input mean to 0 over the dataset\n",
        "        samplewise_center=False,  # set each sample mean to 0\n",
        "        featurewise_std_normalization=False,  # divide inputs by std of the dataset\n",
        "        samplewise_std_normalization=False,  # divide each input by its std\n",
        "        zca_whitening=False,  # apply ZCA whitening\n",
        "        rotation_range=10,  # randomly rotate images in the range (degrees, 0 to 180)\n",
        "        zoom_range = 0.1, # Randomly zoom image \n",
        "        width_shift_range=0.1,  # randomly shift images horizontally (fraction of total width)\n",
        "        height_shift_range=0.1,  # randomly shift images vertically (fraction of total height)\n",
        "        horizontal_flip=False,  # randomly flip images\n",
        "        vertical_flip=False)  # randomly flip images\n",
        "\n",
        "\n",
        "datagen.fit(train_data)"
      ],
      "metadata": {
        "id": "N0vrjHgPpHoz"
      },
      "execution_count": 24,
      "outputs": []
    },
    {
      "cell_type": "code",
      "source": [
        "class AccuracyCallback(tf.keras.callbacks.Callback):\n",
        "    def __init__(self, target_accuracy):\n",
        "        super(AccuracyCallback, self).__init__()\n",
        "        self.target_accuracy = target_accuracy\n",
        "\n",
        "    def on_epoch_end(self, epoch, logs=None):\n",
        "        if logs['accuracy'] >= self.target_accuracy:\n",
        "            print(f\"\\nReached target accuracy of {self.target_accuracy*100}%\")\n",
        "            self.model.stop_training = True"
      ],
      "metadata": {
        "id": "MaAYoA17vQmP"
      },
      "execution_count": 25,
      "outputs": []
    },
    {
      "cell_type": "code",
      "source": [
        "model = tf.keras.models.Sequential([\n",
        "  tf.keras.layers.Conv2D(125 , (3,3) , strides = 1 , padding = 'same' , activation = 'relu' , input_shape = (50,50,1)),\n",
        "  tf.keras.layers.BatchNormalization(),\n",
        "  tf.keras.layers.MaxPool2D((2,2) , strides = 2 , padding = 'same'),\n",
        "  tf.keras.layers.Conv2D(100 , (3,3) , strides = 1 , padding = 'same' , activation = 'relu'),\n",
        "  tf.keras.layers.Dropout(0.2),\n",
        "  tf.keras.layers.BatchNormalization(),\n",
        "  tf.keras.layers.MaxPool2D((2,2) , strides = 2 , padding = 'same'),\n",
        "  tf.keras.layers.Conv2D(75 , (3,3) , strides = 1 , padding = 'same' , activation = 'relu'),\n",
        "  tf.keras.layers.BatchNormalization(),\n",
        "  tf.keras.layers.MaxPool2D((2,2) , strides = 2 , padding = 'same'),\n",
        "  tf.keras.layers.Flatten(),\n",
        "  tf.keras.layers.Dense(units = 512 , activation = 'relu'),\n",
        "  tf.keras.layers.Dropout(0.3),\n",
        "  tf.keras.layers.Dense(units = 26 , activation = 'softmax')\n",
        "])\n",
        "\n",
        "model.compile(optimizer = 'adam' , loss = 'categorical_crossentropy' , metrics = ['accuracy'])\n",
        "\n",
        "model.summary()"
      ],
      "metadata": {
        "colab": {
          "base_uri": "https://localhost:8080/"
        },
        "id": "1C3Mgkahp2Mf",
        "outputId": "c7662c3d-a8f3-47f5-ee31-c605ecefe337"
      },
      "execution_count": 26,
      "outputs": [
        {
          "output_type": "stream",
          "name": "stdout",
          "text": [
            "Model: \"sequential_1\"\n",
            "_________________________________________________________________\n",
            " Layer (type)                Output Shape              Param #   \n",
            "=================================================================\n",
            " conv2d_3 (Conv2D)           (None, 50, 50, 125)       1250      \n",
            "                                                                 \n",
            " batch_normalization_3 (Batc  (None, 50, 50, 125)      500       \n",
            " hNormalization)                                                 \n",
            "                                                                 \n",
            " max_pooling2d_3 (MaxPooling  (None, 25, 25, 125)      0         \n",
            " 2D)                                                             \n",
            "                                                                 \n",
            " conv2d_4 (Conv2D)           (None, 25, 25, 100)       112600    \n",
            "                                                                 \n",
            " dropout_2 (Dropout)         (None, 25, 25, 100)       0         \n",
            "                                                                 \n",
            " batch_normalization_4 (Batc  (None, 25, 25, 100)      400       \n",
            " hNormalization)                                                 \n",
            "                                                                 \n",
            " max_pooling2d_4 (MaxPooling  (None, 13, 13, 100)      0         \n",
            " 2D)                                                             \n",
            "                                                                 \n",
            " conv2d_5 (Conv2D)           (None, 13, 13, 75)        67575     \n",
            "                                                                 \n",
            " batch_normalization_5 (Batc  (None, 13, 13, 75)       300       \n",
            " hNormalization)                                                 \n",
            "                                                                 \n",
            " max_pooling2d_5 (MaxPooling  (None, 7, 7, 75)         0         \n",
            " 2D)                                                             \n",
            "                                                                 \n",
            " flatten_1 (Flatten)         (None, 3675)              0         \n",
            "                                                                 \n",
            " dense_2 (Dense)             (None, 512)               1882112   \n",
            "                                                                 \n",
            " dropout_3 (Dropout)         (None, 512)               0         \n",
            "                                                                 \n",
            " dense_3 (Dense)             (None, 26)                13338     \n",
            "                                                                 \n",
            "=================================================================\n",
            "Total params: 2,078,075\n",
            "Trainable params: 2,077,475\n",
            "Non-trainable params: 600\n",
            "_________________________________________________________________\n"
          ]
        }
      ]
    },
    {
      "cell_type": "code",
      "source": [
        "# Define your callback\n",
        "target_accuracy = 0.99\n",
        "accuracy_callback = AccuracyCallback(target_accuracy)\n",
        "\n",
        "# Train the model with the callback\n",
        "history = model.fit(datagen.flow(train_data, train_label, batch_size = 128),\n",
        "                    epochs = 30, \n",
        "                    validation_data = (val_data, val_label),\n",
        "                    callbacks = [accuracy_callback])"
      ],
      "metadata": {
        "colab": {
          "base_uri": "https://localhost:8080/"
        },
        "id": "xpQe_qsKw76W",
        "outputId": "faef5902-4a65-425b-a01e-74883dc78b27"
      },
      "execution_count": 27,
      "outputs": [
        {
          "output_type": "stream",
          "name": "stdout",
          "text": [
            "Epoch 1/30\n",
            "204/204 [==============================] - 21s 92ms/step - loss: 2.4589 - accuracy: 0.3051 - val_loss: 4.2949 - val_accuracy: 0.0388\n",
            "Epoch 2/30\n",
            "204/204 [==============================] - 17s 85ms/step - loss: 1.3163 - accuracy: 0.5923 - val_loss: 5.6589 - val_accuracy: 0.0539\n",
            "Epoch 3/30\n",
            "204/204 [==============================] - 18s 88ms/step - loss: 0.9174 - accuracy: 0.7126 - val_loss: 1.3879 - val_accuracy: 0.5448\n",
            "Epoch 4/30\n",
            "204/204 [==============================] - 18s 87ms/step - loss: 0.6851 - accuracy: 0.7805 - val_loss: 0.4742 - val_accuracy: 0.8563\n",
            "Epoch 5/30\n",
            "204/204 [==============================] - 18s 87ms/step - loss: 0.5780 - accuracy: 0.8139 - val_loss: 0.4617 - val_accuracy: 0.8606\n",
            "Epoch 6/30\n",
            "204/204 [==============================] - 17s 85ms/step - loss: 0.4796 - accuracy: 0.8495 - val_loss: 0.4023 - val_accuracy: 0.8793\n",
            "Epoch 7/30\n",
            "204/204 [==============================] - 18s 86ms/step - loss: 0.3979 - accuracy: 0.8695 - val_loss: 0.6301 - val_accuracy: 0.8141\n",
            "Epoch 8/30\n",
            "204/204 [==============================] - 18s 87ms/step - loss: 0.3511 - accuracy: 0.8886 - val_loss: 0.3146 - val_accuracy: 0.9089\n",
            "Epoch 9/30\n",
            "204/204 [==============================] - 17s 83ms/step - loss: 0.3288 - accuracy: 0.8943 - val_loss: 0.2977 - val_accuracy: 0.9135\n",
            "Epoch 10/30\n",
            "204/204 [==============================] - 18s 86ms/step - loss: 0.2826 - accuracy: 0.9070 - val_loss: 0.2888 - val_accuracy: 0.9154\n",
            "Epoch 11/30\n",
            "204/204 [==============================] - 17s 84ms/step - loss: 0.2671 - accuracy: 0.9124 - val_loss: 0.2548 - val_accuracy: 0.9344\n",
            "Epoch 12/30\n",
            "204/204 [==============================] - 18s 86ms/step - loss: 0.2475 - accuracy: 0.9213 - val_loss: 0.1878 - val_accuracy: 0.9532\n",
            "Epoch 13/30\n",
            "204/204 [==============================] - 17s 84ms/step - loss: 0.2294 - accuracy: 0.9264 - val_loss: 0.2365 - val_accuracy: 0.9391\n",
            "Epoch 14/30\n",
            "204/204 [==============================] - 17s 85ms/step - loss: 0.2039 - accuracy: 0.9338 - val_loss: 1.8460 - val_accuracy: 0.5811\n",
            "Epoch 15/30\n",
            "204/204 [==============================] - 18s 87ms/step - loss: 0.2120 - accuracy: 0.9310 - val_loss: 0.4881 - val_accuracy: 0.8701\n",
            "Epoch 16/30\n",
            "204/204 [==============================] - 17s 84ms/step - loss: 0.1876 - accuracy: 0.9375 - val_loss: 0.5851 - val_accuracy: 0.8319\n",
            "Epoch 17/30\n",
            "204/204 [==============================] - 18s 89ms/step - loss: 0.1828 - accuracy: 0.9422 - val_loss: 0.2607 - val_accuracy: 0.9289\n",
            "Epoch 18/30\n",
            "204/204 [==============================] - 17s 82ms/step - loss: 0.1635 - accuracy: 0.9465 - val_loss: 0.2313 - val_accuracy: 0.9471\n",
            "Epoch 19/30\n",
            "204/204 [==============================] - 17s 83ms/step - loss: 0.1722 - accuracy: 0.9455 - val_loss: 0.4828 - val_accuracy: 0.8821\n",
            "Epoch 20/30\n",
            "204/204 [==============================] - 17s 85ms/step - loss: 0.1680 - accuracy: 0.9462 - val_loss: 0.2565 - val_accuracy: 0.9526\n",
            "Epoch 21/30\n",
            "204/204 [==============================] - 17s 84ms/step - loss: 0.1564 - accuracy: 0.9496 - val_loss: 1.0414 - val_accuracy: 0.7836\n",
            "Epoch 22/30\n",
            "204/204 [==============================] - 18s 87ms/step - loss: 0.1408 - accuracy: 0.9533 - val_loss: 0.2215 - val_accuracy: 0.9569\n",
            "Epoch 23/30\n",
            "204/204 [==============================] - 17s 85ms/step - loss: 0.1392 - accuracy: 0.9542 - val_loss: 0.3302 - val_accuracy: 0.9344\n",
            "Epoch 24/30\n",
            "204/204 [==============================] - 17s 84ms/step - loss: 0.1362 - accuracy: 0.9548 - val_loss: 0.5777 - val_accuracy: 0.8667\n",
            "Epoch 25/30\n",
            "204/204 [==============================] - 18s 86ms/step - loss: 0.1365 - accuracy: 0.9568 - val_loss: 0.4099 - val_accuracy: 0.8957\n",
            "Epoch 26/30\n",
            "204/204 [==============================] - 17s 83ms/step - loss: 0.1387 - accuracy: 0.9566 - val_loss: 0.2806 - val_accuracy: 0.9474\n",
            "Epoch 27/30\n",
            "204/204 [==============================] - 18s 86ms/step - loss: 0.1272 - accuracy: 0.9592 - val_loss: 0.2370 - val_accuracy: 0.9600\n",
            "Epoch 28/30\n",
            "204/204 [==============================] - 17s 85ms/step - loss: 0.1364 - accuracy: 0.9576 - val_loss: 0.3895 - val_accuracy: 0.9151\n",
            "Epoch 29/30\n",
            "204/204 [==============================] - 18s 86ms/step - loss: 0.1242 - accuracy: 0.9595 - val_loss: 0.1718 - val_accuracy: 0.9631\n",
            "Epoch 30/30\n",
            "204/204 [==============================] - 17s 85ms/step - loss: 0.1082 - accuracy: 0.9647 - val_loss: 0.1834 - val_accuracy: 0.9612\n"
          ]
        }
      ]
    },
    {
      "cell_type": "code",
      "source": [
        "print(\"Accuracy of the model is - \" , model.evaluate(val_data,val_label)[1]*100 , \"%\")"
      ],
      "metadata": {
        "colab": {
          "base_uri": "https://localhost:8080/"
        },
        "id": "jKWTvvGrVXHV",
        "outputId": "a03e2494-b42e-4b30-8101-4deb5f7a7173"
      },
      "execution_count": 28,
      "outputs": [
        {
          "output_type": "stream",
          "name": "stdout",
          "text": [
            "102/102 [==============================] - 1s 7ms/step - loss: 0.1834 - accuracy: 0.9612\n",
            "Accuracy of the model is -  96.12188339233398 %\n"
          ]
        }
      ]
    },
    {
      "cell_type": "code",
      "source": [
        "import matplotlib.pyplot as plt\n",
        "\n",
        "# Plot the results\n",
        "acc = history.history['accuracy']\n",
        "val_acc = history.history['val_accuracy']\n",
        "loss = history.history['loss']\n",
        "val_loss = history.history['val_loss']\n",
        "\n",
        "epochs = range(len(acc))\n",
        "\n",
        "plt.plot(epochs, acc, 'r', label='Training accuracy')\n",
        "plt.plot(epochs, val_acc, 'b', label='Validation accuracy')\n",
        "plt.title('Training and validation accuracy')\n",
        "plt.legend(loc=0)\n",
        "plt.figure()\n",
        "\n",
        "plt.show()"
      ],
      "metadata": {
        "colab": {
          "base_uri": "https://localhost:8080/",
          "height": 469
        },
        "id": "V2UWHrhBIaPL",
        "outputId": "5cd74101-9f49-4689-d68f-8fabf47ed5bb"
      },
      "execution_count": 29,
      "outputs": [
        {
          "output_type": "display_data",
          "data": {
            "text/plain": [
              "<Figure size 640x480 with 1 Axes>"
            ],
            "image/png": "[encoded data removed]"
          },
          "metadata": {}
        },
        {
          "output_type": "display_data",
          "data": {
            "text/plain": [
              "<Figure size 640x480 with 0 Axes>"
            ]
          },
          "metadata": {}
        }
      ]
    },
    {
      "cell_type": "code",
      "source": [
        "predictions = model.predict(test_data)\n",
        "import numpy as np\n",
        "print(np.argmax(test_label[:20], axis=1))\n",
        "print(np.argmax(predictions[:20], axis=1))"
      ],
      "metadata": {
        "colab": {
          "base_uri": "https://localhost:8080/"
        },
        "id": "vvOauk8WbHyo",
        "outputId": "4b7b3242-28a9-4b31-fa59-2f35963a75fb"
      },
      "execution_count": 30,
      "outputs": [
        {
          "output_type": "stream",
          "name": "stdout",
          "text": [
            "102/102 [==============================] - 1s 5ms/step\n",
            "[ 1 25  7 13 20  9  7 20  6 14  4  5  0 15 10 17 21 15 15  7]\n",
            "[ 1 25  7 13 20  9  7 20  6 14  4  5  0 15 10 17 21 15 23  7]\n"
          ]
        }
      ]
    },
    {
      "cell_type": "code",
      "source": [
        "from sklearn.metrics import confusion_matrix\n",
        "import seaborn as sns\n",
        "cm = confusion_matrix(np.argmax(test_label, axis=1), np.argmax(predictions, axis=1))\n",
        "cm = pd.DataFrame(cm , index = [i for i in range(27) if i != 9] , columns = [i for i in range(27) if i != 9])\n",
        "plt.figure(figsize = (12,12))\n",
        "sns.heatmap(cm,cmap= \"Blues\", linecolor = 'black' , linewidth = 1 , annot = True, fmt='')"
      ],
      "metadata": {
        "colab": {
          "base_uri": "https://localhost:8080/",
          "height": 1000
        },
        "id": "IQkrUaFcJ_dY",
        "outputId": "9409496a-c1b1-4707-f3f7-317e69c9ecd0"
      },
      "execution_count": 32,
      "outputs": [
        {
          "output_type": "execute_result",
          "data": {
            "text/plain": [
              "<Axes: >"
            ]
          },
          "metadata": {},
          "execution_count": 32
        },
        {
          "output_type": "display_data",
          "data": {
            "text/plain": [
              "<Figure size 1200x1200 with 2 Axes>"
            ],
            "image/png": "[encoded data removed]"
          },
          "metadata": {}
        }
      ]
    },
    {
      "cell_type": "code",
      "source": [
        "#saved_model_path = \"./bicaraku.h5\"\n",
        "\n",
        "#model.save(saved_model_path)"
      ],
      "metadata": {
        "id": "i4OQv8zPT0kL"
      },
      "execution_count": null,
      "outputs": []
    },
    {
      "cell_type": "code",
      "source": [
        "#!tensorflowjs_converter --input_format=keras {saved_model_path} ./"
      ],
      "metadata": {
        "colab": {
          "base_uri": "https://localhost:8080/"
        },
        "id": "ybhLk8giUUtx",
        "outputId": "1d1d538d-82f6-43a8-f17b-b9d4e0d37745"
      },
      "execution_count": null,
      "outputs": [
        {
          "output_type": "stream",
          "name": "stdout",
          "text": [
            "2023-05-24 01:28:13.845409: W tensorflow/compiler/tf2tensorrt/utils/py_utils.cc:38] TF-TRT Warning: Could not find TensorRT\n"
          ]
        }
      ]
    }
  ]
}