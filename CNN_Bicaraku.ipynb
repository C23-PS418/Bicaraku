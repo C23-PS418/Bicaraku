{
  "nbformat": 4,
  "nbformat_minor": 0,
  "metadata": {
    "colab": {
      "provenance": [],
      "gpuType": "T4",
      "include_colab_link": true
    },
    "kernelspec": {
      "name": "python3",
      "display_name": "Python 3"
    },
    "language_info": {
      "name": "python"
    },
    "accelerator": "GPU",
    "gpuClass": "standard"
  },
  "cells": [
    {
      "cell_type": "markdown",
      "metadata": {
        "id": "view-in-github",
        "colab_type": "text"
      },
      "source": [
        "<a href=\"https://colab.research.google.com/github/C23-PS418/Bicaraku/blob/ML/CNN_Bicaraku.ipynb\" target=\"_parent\"><img src=\"https://colab.research.google.com/assets/colab-badge.svg\" alt=\"Open In Colab\"/></a>"
      ]
    },
    {
      "cell_type": "code",
      "source": [
        "#!pip install tensorflowjs"
      ],
      "metadata": {
        "id": "P7qcGzYZOSLw"
      },
      "execution_count": null,
      "outputs": []
    },
    {
      "cell_type": "code",
      "execution_count": 1,
      "metadata": {
        "colab": {
          "base_uri": "https://localhost:8080/"
        },
        "id": "-j_nI5deed4E",
        "outputId": "d123c7d4-cff2-4159-8a5e-83b6cd591e1c"
      },
      "outputs": [
        {
          "output_type": "stream",
          "name": "stdout",
          "text": [
            "/usr/local/lib/python3.10/dist-packages/gdown/cli.py:121: FutureWarning: Option `--id` was deprecated in version 4.3.1 and will be removed in 5.0. You don't need to pass it anymore to use a file ID.\n",
            "  warnings.warn(\n",
            "Downloading...\n",
            "From: https://drive.google.com/uc?id=1OafUwixUVnq_7tdAfh_D8NetXec-46Wa\n",
            "To: /content/train_alphabet2.csv\n",
            "100% 239M/239M [00:04<00:00, 51.1MB/s]\n",
            "/usr/local/lib/python3.10/dist-packages/gdown/cli.py:121: FutureWarning: Option `--id` was deprecated in version 4.3.1 and will be removed in 5.0. You don't need to pass it anymore to use a file ID.\n",
            "  warnings.warn(\n",
            "Downloading...\n",
            "From: https://drive.google.com/uc?id=17zmAWDVNs3vzSd7u2ZJaxy4G-ZsBix-I\n",
            "To: /content/validation_alphabet2.csv\n",
            "100% 29.5M/29.5M [00:00<00:00, 82.3MB/s]\n",
            "/usr/local/lib/python3.10/dist-packages/gdown/cli.py:121: FutureWarning: Option `--id` was deprecated in version 4.3.1 and will be removed in 5.0. You don't need to pass it anymore to use a file ID.\n",
            "  warnings.warn(\n",
            "Downloading...\n",
            "From: https://drive.google.com/uc?id=1dOv1svlhrxYfi-o0Tj1WduBr9pdgjCOs\n",
            "To: /content/test_alphabet2.csv\n",
            "100% 29.4M/29.4M [00:00<00:00, 61.3MB/s]\n"
          ]
        }
      ],
      "source": [
        "!gdown --id 1OafUwixUVnq_7tdAfh_D8NetXec-46Wa\n",
        "!gdown --id 17zmAWDVNs3vzSd7u2ZJaxy4G-ZsBix-I\n",
        "!gdown --id 1dOv1svlhrxYfi-o0Tj1WduBr9pdgjCOs"
      ]
    },
    {
      "cell_type": "code",
      "source": [
        "import pandas as pd\n",
        "import tensorflow as tf\n",
        "import csv\n",
        "import random"
      ],
      "metadata": {
        "id": "e8KTED8IfZr3"
      },
      "execution_count": 2,
      "outputs": []
    },
    {
      "cell_type": "code",
      "source": [
        "# Shuffle CSV rows\n",
        "\n",
        "list_datasets = ['train_alphabet2.csv', 'validation_alphabet2.csv', 'test_alphabet2.csv']\n",
        "\n",
        "for dataset in list_datasets:\n",
        "\n",
        "  # Read the CSV file\n",
        "  with open(dataset, 'r') as file:\n",
        "    reader = csv.reader(file)\n",
        "    rows = list(reader)\n",
        "\n",
        "  # Shuffle the rows\n",
        "  random.shuffle(rows)\n",
        "\n",
        "  # Write the shuffled rows to a new CSV file\n",
        "  with open(dataset, 'w', newline='') as file:\n",
        "    writer = csv.writer(file)\n",
        "    writer.writerows(rows)"
      ],
      "metadata": {
        "id": "9-HBto-76_Nz"
      },
      "execution_count": 3,
      "outputs": []
    },
    {
      "cell_type": "code",
      "source": [
        "train_df = pd.read_csv('train_alphabet2.csv')\n",
        "val_df = pd.read_csv('validation_alphabet2.csv')\n",
        "test_df = pd.read_csv('test_alphabet2.csv')\n",
        "\n",
        "train_df.head()"
      ],
      "metadata": {
        "colab": {
          "base_uri": "https://localhost:8080/",
          "height": 300
        },
        "id": "GAIFRIEUf_mE",
        "outputId": "afd8abad-dfd5-431c-ea1b-243df704ab11"
      },
      "execution_count": 4,
      "outputs": [
        {
          "output_type": "execute_result",
          "data": {
            "text/plain": [
              "   D   56   79   80  79.1   81  81.1  81.2  81.3  81.4  ...  137.9  136.7  \\\n",
              "0  O  159  160  161   162  164   163   163   163   163  ...     61    125   \n",
              "1  O  254  254  254   254  254   254   254   254   254  ...     91     93   \n",
              "2  G  171  172  173   175  176   174   175   176   176  ...    153    156   \n",
              "3  K  189  192  194   194  194   195   195   197   197  ...    133    143   \n",
              "4  Q  168  167  166   167  168   168   168   169   169  ...    134    133   \n",
              "\n",
              "   135.8  132.6  130.7  131.9  134.6  137.10  144.6  120.8  \n",
              "0    143    143    143    146    144     143    142    142  \n",
              "1     93     91     87     58     22      12     13     14  \n",
              "2    157    156    154    154    154     154    154    155  \n",
              "3    137    138    141    139    137     140    138    131  \n",
              "4    133    133    132    133    132     132    132    134  \n",
              "\n",
              "[5 rows x 2501 columns]"
            ],
            "text/html": [
              "\n",
              "  <div id=\"df-35a4c22e-f8eb-4a0d-a667-ee148a07e827\">\n",
              "    <div class=\"colab-df-container\">\n",
              "      <div>\n",
              "<style scoped>\n",
              "    .dataframe tbody tr th:only-of-type {\n",
              "        vertical-align: middle;\n",
              "    }\n",
              "\n",
              "    .dataframe tbody tr th {\n",
              "        vertical-align: top;\n",
              "    }\n",
              "\n",
              "    .dataframe thead th {\n",
              "        text-align: right;\n",
              "    }\n",
              "</style>\n",
              "<table border=\"1\" class=\"dataframe\">\n",
              "  <thead>\n",
              "    <tr style=\"text-align: right;\">\n",
              "      <th></th>\n",
              "      <th>D</th>\n",
              "      <th>56</th>\n",
              "      <th>79</th>\n",
              "      <th>80</th>\n",
              "      <th>79.1</th>\n",
              "      <th>81</th>\n",
              "      <th>81.1</th>\n",
              "      <th>81.2</th>\n",
              "      <th>81.3</th>\n",
              "      <th>81.4</th>\n",
              "      <th>...</th>\n",
              "      <th>137.9</th>\n",
              "      <th>136.7</th>\n",
              "      <th>135.8</th>\n",
              "      <th>132.6</th>\n",
              "      <th>130.7</th>\n",
              "      <th>131.9</th>\n",
              "      <th>134.6</th>\n",
              "      <th>137.10</th>\n",
              "      <th>144.6</th>\n",
              "      <th>120.8</th>\n",
              "    </tr>\n",
              "  </thead>\n",
              "  <tbody>\n",
              "    <tr>\n",
              "      <th>0</th>\n",
              "      <td>O</td>\n",
              "      <td>159</td>\n",
              "      <td>160</td>\n",
              "      <td>161</td>\n",
              "      <td>162</td>\n",
              "      <td>164</td>\n",
              "      <td>163</td>\n",
              "      <td>163</td>\n",
              "      <td>163</td>\n",
              "      <td>163</td>\n",
              "      <td>...</td>\n",
              "      <td>61</td>\n",
              "      <td>125</td>\n",
              "      <td>143</td>\n",
              "      <td>143</td>\n",
              "      <td>143</td>\n",
              "      <td>146</td>\n",
              "      <td>144</td>\n",
              "      <td>143</td>\n",
              "      <td>142</td>\n",
              "      <td>142</td>\n",
              "    </tr>\n",
              "    <tr>\n",
              "      <th>1</th>\n",
              "      <td>O</td>\n",
              "      <td>254</td>\n",
              "      <td>254</td>\n",
              "      <td>254</td>\n",
              "      <td>254</td>\n",
              "      <td>254</td>\n",
              "      <td>254</td>\n",
              "      <td>254</td>\n",
              "      <td>254</td>\n",
              "      <td>254</td>\n",
              "      <td>...</td>\n",
              "      <td>91</td>\n",
              "      <td>93</td>\n",
              "      <td>93</td>\n",
              "      <td>91</td>\n",
              "      <td>87</td>\n",
              "      <td>58</td>\n",
              "      <td>22</td>\n",
              "      <td>12</td>\n",
              "      <td>13</td>\n",
              "      <td>14</td>\n",
              "    </tr>\n",
              "    <tr>\n",
              "      <th>2</th>\n",
              "      <td>G</td>\n",
              "      <td>171</td>\n",
              "      <td>172</td>\n",
              "      <td>173</td>\n",
              "      <td>175</td>\n",
              "      <td>176</td>\n",
              "      <td>174</td>\n",
              "      <td>175</td>\n",
              "      <td>176</td>\n",
              "      <td>176</td>\n",
              "      <td>...</td>\n",
              "      <td>153</td>\n",
              "      <td>156</td>\n",
              "      <td>157</td>\n",
              "      <td>156</td>\n",
              "      <td>154</td>\n",
              "      <td>154</td>\n",
              "      <td>154</td>\n",
              "      <td>154</td>\n",
              "      <td>154</td>\n",
              "      <td>155</td>\n",
              "    </tr>\n",
              "    <tr>\n",
              "      <th>3</th>\n",
              "      <td>K</td>\n",
              "      <td>189</td>\n",
              "      <td>192</td>\n",
              "      <td>194</td>\n",
              "      <td>194</td>\n",
              "      <td>194</td>\n",
              "      <td>195</td>\n",
              "      <td>195</td>\n",
              "      <td>197</td>\n",
              "      <td>197</td>\n",
              "      <td>...</td>\n",
              "      <td>133</td>\n",
              "      <td>143</td>\n",
              "      <td>137</td>\n",
              "      <td>138</td>\n",
              "      <td>141</td>\n",
              "      <td>139</td>\n",
              "      <td>137</td>\n",
              "      <td>140</td>\n",
              "      <td>138</td>\n",
              "      <td>131</td>\n",
              "    </tr>\n",
              "    <tr>\n",
              "      <th>4</th>\n",
              "      <td>Q</td>\n",
              "      <td>168</td>\n",
              "      <td>167</td>\n",
              "      <td>166</td>\n",
              "      <td>167</td>\n",
              "      <td>168</td>\n",
              "      <td>168</td>\n",
              "      <td>168</td>\n",
              "      <td>169</td>\n",
              "      <td>169</td>\n",
              "      <td>...</td>\n",
              "      <td>134</td>\n",
              "      <td>133</td>\n",
              "      <td>133</td>\n",
              "      <td>133</td>\n",
              "      <td>132</td>\n",
              "      <td>133</td>\n",
              "      <td>132</td>\n",
              "      <td>132</td>\n",
              "      <td>132</td>\n",
              "      <td>134</td>\n",
              "    </tr>\n",
              "  </tbody>\n",
              "</table>\n",
              "<p>5 rows × 2501 columns</p>\n",
              "</div>\n",
              "      <button class=\"colab-df-convert\" onclick=\"convertToInteractive('df-35a4c22e-f8eb-4a0d-a667-ee148a07e827')\"\n",
              "              title=\"Convert this dataframe to an interactive table.\"\n",
              "              style=\"display:none;\">\n",
              "        \n",
              "  <svg xmlns=\"http://www.w3.org/2000/svg\" height=\"24px\"viewBox=\"0 0 24 24\"\n",
              "       width=\"24px\">\n",
              "    <path d=\"M0 0h24v24H0V0z\" fill=\"none\"/>\n",
              "    <path d=\"M18.56 5.44l.94 2.06.94-2.06 2.06-.94-2.06-.94-.94-2.06-.94 2.06-2.06.94zm-11 1L8.5 8.5l.94-2.06 2.06-.94-2.06-.94L8.5 2.5l-.94 2.06-2.06.94zm10 10l.94 2.06.94-2.06 2.06-.94-2.06-.94-.94-2.06-.94 2.06-2.06.94z\"/><path d=\"M17.41 7.96l-1.37-1.37c-.4-.4-.92-.59-1.43-.59-.52 0-1.04.2-1.43.59L10.3 9.45l-7.72 7.72c-.78.78-.78 2.05 0 2.83L4 21.41c.39.39.9.59 1.41.59.51 0 1.02-.2 1.41-.59l7.78-7.78 2.81-2.81c.8-.78.8-2.07 0-2.86zM5.41 20L4 18.59l7.72-7.72 1.47 1.35L5.41 20z\"/>\n",
              "  </svg>\n",
              "      </button>\n",
              "      \n",
              "  <style>\n",
              "    .colab-df-container {\n",
              "      display:flex;\n",
              "      flex-wrap:wrap;\n",
              "      gap: 12px;\n",
              "    }\n",
              "\n",
              "    .colab-df-convert {\n",
              "      background-color: #E8F0FE;\n",
              "      border: none;\n",
              "      border-radius: 50%;\n",
              "      cursor: pointer;\n",
              "      display: none;\n",
              "      fill: #1967D2;\n",
              "      height: 32px;\n",
              "      padding: 0 0 0 0;\n",
              "      width: 32px;\n",
              "    }\n",
              "\n",
              "    .colab-df-convert:hover {\n",
              "      background-color: #E2EBFA;\n",
              "      box-shadow: 0px 1px 2px rgba(60, 64, 67, 0.3), 0px 1px 3px 1px rgba(60, 64, 67, 0.15);\n",
              "      fill: #174EA6;\n",
              "    }\n",
              "\n",
              "    [theme=dark] .colab-df-convert {\n",
              "      background-color: #3B4455;\n",
              "      fill: #D2E3FC;\n",
              "    }\n",
              "\n",
              "    [theme=dark] .colab-df-convert:hover {\n",
              "      background-color: #434B5C;\n",
              "      box-shadow: 0px 1px 3px 1px rgba(0, 0, 0, 0.15);\n",
              "      filter: drop-shadow(0px 1px 2px rgba(0, 0, 0, 0.3));\n",
              "      fill: #FFFFFF;\n",
              "    }\n",
              "  </style>\n",
              "\n",
              "      <script>\n",
              "        const buttonEl =\n",
              "          document.querySelector('#df-35a4c22e-f8eb-4a0d-a667-ee148a07e827 button.colab-df-convert');\n",
              "        buttonEl.style.display =\n",
              "          google.colab.kernel.accessAllowed ? 'block' : 'none';\n",
              "\n",
              "        async function convertToInteractive(key) {\n",
              "          const element = document.querySelector('#df-35a4c22e-f8eb-4a0d-a667-ee148a07e827');\n",
              "          const dataTable =\n",
              "            await google.colab.kernel.invokeFunction('convertToInteractive',\n",
              "                                                     [key], {});\n",
              "          if (!dataTable) return;\n",
              "\n",
              "          const docLinkHtml = 'Like what you see? Visit the ' +\n",
              "            '<a target=\"_blank\" href=https://colab.research.google.com/notebooks/data_table.ipynb>data table notebook</a>'\n",
              "            + ' to learn more about interactive tables.';\n",
              "          element.innerHTML = '';\n",
              "          dataTable['output_type'] = 'display_data';\n",
              "          await google.colab.output.renderOutput(dataTable, element);\n",
              "          const docLink = document.createElement('div');\n",
              "          docLink.innerHTML = docLinkHtml;\n",
              "          element.appendChild(docLink);\n",
              "        }\n",
              "      </script>\n",
              "    </div>\n",
              "  </div>\n",
              "  "
            ]
          },
          "metadata": {},
          "execution_count": 4
        }
      ]
    },
    {
      "cell_type": "code",
      "source": [
        "train_label = train_df[train_df.columns[0]]\n",
        "val_label = val_df[val_df.columns[0]]\n",
        "test_label = test_df[test_df.columns[0]]\n",
        "\n",
        "print(train_label.shape)"
      ],
      "metadata": {
        "colab": {
          "base_uri": "https://localhost:8080/"
        },
        "id": "Um-K6fpUgRtn",
        "outputId": "ad6495a4-dd6b-4d87-e6bc-c352ed1511f8"
      },
      "execution_count": 5,
      "outputs": [
        {
          "output_type": "stream",
          "name": "stdout",
          "text": [
            "(25998,)\n"
          ]
        }
      ]
    },
    {
      "cell_type": "code",
      "source": [
        "train_df.drop(columns=train_df.columns[0], axis=1, inplace=True)\n",
        "val_df.drop(columns=val_df.columns[0], axis=1, inplace=True)\n",
        "test_df.drop(columns=test_df.columns[0], axis=1, inplace=True)\n",
        "\n",
        "train_df.head(5)"
      ],
      "metadata": {
        "colab": {
          "base_uri": "https://localhost:8080/",
          "height": 300
        },
        "id": "zy7oTwzHjV0j",
        "outputId": "ef6feb8f-2407-4c6d-d7cf-5037155756bd"
      },
      "execution_count": 6,
      "outputs": [
        {
          "output_type": "execute_result",
          "data": {
            "text/plain": [
              "    56   79   80  79.1   81  81.1  81.2  81.3  81.4   84  ...  137.9  136.7  \\\n",
              "0  159  160  161   162  164   163   163   163   163  167  ...     61    125   \n",
              "1  254  254  254   254  254   254   254   254   254  254  ...     91     93   \n",
              "2  171  172  173   175  176   174   175   176   176  177  ...    153    156   \n",
              "3  189  192  194   194  194   195   195   197   197  197  ...    133    143   \n",
              "4  168  167  166   167  168   168   168   169   169  169  ...    134    133   \n",
              "\n",
              "   135.8  132.6  130.7  131.9  134.6  137.10  144.6  120.8  \n",
              "0    143    143    143    146    144     143    142    142  \n",
              "1     93     91     87     58     22      12     13     14  \n",
              "2    157    156    154    154    154     154    154    155  \n",
              "3    137    138    141    139    137     140    138    131  \n",
              "4    133    133    132    133    132     132    132    134  \n",
              "\n",
              "[5 rows x 2500 columns]"
            ],
            "text/html": [
              "\n",
              "  <div id=\"df-72a9531f-932a-4db7-8829-290aea017748\">\n",
              "    <div class=\"colab-df-container\">\n",
              "      <div>\n",
              "<style scoped>\n",
              "    .dataframe tbody tr th:only-of-type {\n",
              "        vertical-align: middle;\n",
              "    }\n",
              "\n",
              "    .dataframe tbody tr th {\n",
              "        vertical-align: top;\n",
              "    }\n",
              "\n",
              "    .dataframe thead th {\n",
              "        text-align: right;\n",
              "    }\n",
              "</style>\n",
              "<table border=\"1\" class=\"dataframe\">\n",
              "  <thead>\n",
              "    <tr style=\"text-align: right;\">\n",
              "      <th></th>\n",
              "      <th>56</th>\n",
              "      <th>79</th>\n",
              "      <th>80</th>\n",
              "      <th>79.1</th>\n",
              "      <th>81</th>\n",
              "      <th>81.1</th>\n",
              "      <th>81.2</th>\n",
              "      <th>81.3</th>\n",
              "      <th>81.4</th>\n",
              "      <th>84</th>\n",
              "      <th>...</th>\n",
              "      <th>137.9</th>\n",
              "      <th>136.7</th>\n",
              "      <th>135.8</th>\n",
              "      <th>132.6</th>\n",
              "      <th>130.7</th>\n",
              "      <th>131.9</th>\n",
              "      <th>134.6</th>\n",
              "      <th>137.10</th>\n",
              "      <th>144.6</th>\n",
              "      <th>120.8</th>\n",
              "    </tr>\n",
              "  </thead>\n",
              "  <tbody>\n",
              "    <tr>\n",
              "      <th>0</th>\n",
              "      <td>159</td>\n",
              "      <td>160</td>\n",
              "      <td>161</td>\n",
              "      <td>162</td>\n",
              "      <td>164</td>\n",
              "      <td>163</td>\n",
              "      <td>163</td>\n",
              "      <td>163</td>\n",
              "      <td>163</td>\n",
              "      <td>167</td>\n",
              "      <td>...</td>\n",
              "      <td>61</td>\n",
              "      <td>125</td>\n",
              "      <td>143</td>\n",
              "      <td>143</td>\n",
              "      <td>143</td>\n",
              "      <td>146</td>\n",
              "      <td>144</td>\n",
              "      <td>143</td>\n",
              "      <td>142</td>\n",
              "      <td>142</td>\n",
              "    </tr>\n",
              "    <tr>\n",
              "      <th>1</th>\n",
              "      <td>254</td>\n",
              "      <td>254</td>\n",
              "      <td>254</td>\n",
              "      <td>254</td>\n",
              "      <td>254</td>\n",
              "      <td>254</td>\n",
              "      <td>254</td>\n",
              "      <td>254</td>\n",
              "      <td>254</td>\n",
              "      <td>254</td>\n",
              "      <td>...</td>\n",
              "      <td>91</td>\n",
              "      <td>93</td>\n",
              "      <td>93</td>\n",
              "      <td>91</td>\n",
              "      <td>87</td>\n",
              "      <td>58</td>\n",
              "      <td>22</td>\n",
              "      <td>12</td>\n",
              "      <td>13</td>\n",
              "      <td>14</td>\n",
              "    </tr>\n",
              "    <tr>\n",
              "      <th>2</th>\n",
              "      <td>171</td>\n",
              "      <td>172</td>\n",
              "      <td>173</td>\n",
              "      <td>175</td>\n",
              "      <td>176</td>\n",
              "      <td>174</td>\n",
              "      <td>175</td>\n",
              "      <td>176</td>\n",
              "      <td>176</td>\n",
              "      <td>177</td>\n",
              "      <td>...</td>\n",
              "      <td>153</td>\n",
              "      <td>156</td>\n",
              "      <td>157</td>\n",
              "      <td>156</td>\n",
              "      <td>154</td>\n",
              "      <td>154</td>\n",
              "      <td>154</td>\n",
              "      <td>154</td>\n",
              "      <td>154</td>\n",
              "      <td>155</td>\n",
              "    </tr>\n",
              "    <tr>\n",
              "      <th>3</th>\n",
              "      <td>189</td>\n",
              "      <td>192</td>\n",
              "      <td>194</td>\n",
              "      <td>194</td>\n",
              "      <td>194</td>\n",
              "      <td>195</td>\n",
              "      <td>195</td>\n",
              "      <td>197</td>\n",
              "      <td>197</td>\n",
              "      <td>197</td>\n",
              "      <td>...</td>\n",
              "      <td>133</td>\n",
              "      <td>143</td>\n",
              "      <td>137</td>\n",
              "      <td>138</td>\n",
              "      <td>141</td>\n",
              "      <td>139</td>\n",
              "      <td>137</td>\n",
              "      <td>140</td>\n",
              "      <td>138</td>\n",
              "      <td>131</td>\n",
              "    </tr>\n",
              "    <tr>\n",
              "      <th>4</th>\n",
              "      <td>168</td>\n",
              "      <td>167</td>\n",
              "      <td>166</td>\n",
              "      <td>167</td>\n",
              "      <td>168</td>\n",
              "      <td>168</td>\n",
              "      <td>168</td>\n",
              "      <td>169</td>\n",
              "      <td>169</td>\n",
              "      <td>169</td>\n",
              "      <td>...</td>\n",
              "      <td>134</td>\n",
              "      <td>133</td>\n",
              "      <td>133</td>\n",
              "      <td>133</td>\n",
              "      <td>132</td>\n",
              "      <td>133</td>\n",
              "      <td>132</td>\n",
              "      <td>132</td>\n",
              "      <td>132</td>\n",
              "      <td>134</td>\n",
              "    </tr>\n",
              "  </tbody>\n",
              "</table>\n",
              "<p>5 rows × 2500 columns</p>\n",
              "</div>\n",
              "      <button class=\"colab-df-convert\" onclick=\"convertToInteractive('df-72a9531f-932a-4db7-8829-290aea017748')\"\n",
              "              title=\"Convert this dataframe to an interactive table.\"\n",
              "              style=\"display:none;\">\n",
              "        \n",
              "  <svg xmlns=\"http://www.w3.org/2000/svg\" height=\"24px\"viewBox=\"0 0 24 24\"\n",
              "       width=\"24px\">\n",
              "    <path d=\"M0 0h24v24H0V0z\" fill=\"none\"/>\n",
              "    <path d=\"M18.56 5.44l.94 2.06.94-2.06 2.06-.94-2.06-.94-.94-2.06-.94 2.06-2.06.94zm-11 1L8.5 8.5l.94-2.06 2.06-.94-2.06-.94L8.5 2.5l-.94 2.06-2.06.94zm10 10l.94 2.06.94-2.06 2.06-.94-2.06-.94-.94-2.06-.94 2.06-2.06.94z\"/><path d=\"M17.41 7.96l-1.37-1.37c-.4-.4-.92-.59-1.43-.59-.52 0-1.04.2-1.43.59L10.3 9.45l-7.72 7.72c-.78.78-.78 2.05 0 2.83L4 21.41c.39.39.9.59 1.41.59.51 0 1.02-.2 1.41-.59l7.78-7.78 2.81-2.81c.8-.78.8-2.07 0-2.86zM5.41 20L4 18.59l7.72-7.72 1.47 1.35L5.41 20z\"/>\n",
              "  </svg>\n",
              "      </button>\n",
              "      \n",
              "  <style>\n",
              "    .colab-df-container {\n",
              "      display:flex;\n",
              "      flex-wrap:wrap;\n",
              "      gap: 12px;\n",
              "    }\n",
              "\n",
              "    .colab-df-convert {\n",
              "      background-color: #E8F0FE;\n",
              "      border: none;\n",
              "      border-radius: 50%;\n",
              "      cursor: pointer;\n",
              "      display: none;\n",
              "      fill: #1967D2;\n",
              "      height: 32px;\n",
              "      padding: 0 0 0 0;\n",
              "      width: 32px;\n",
              "    }\n",
              "\n",
              "    .colab-df-convert:hover {\n",
              "      background-color: #E2EBFA;\n",
              "      box-shadow: 0px 1px 2px rgba(60, 64, 67, 0.3), 0px 1px 3px 1px rgba(60, 64, 67, 0.15);\n",
              "      fill: #174EA6;\n",
              "    }\n",
              "\n",
              "    [theme=dark] .colab-df-convert {\n",
              "      background-color: #3B4455;\n",
              "      fill: #D2E3FC;\n",
              "    }\n",
              "\n",
              "    [theme=dark] .colab-df-convert:hover {\n",
              "      background-color: #434B5C;\n",
              "      box-shadow: 0px 1px 3px 1px rgba(0, 0, 0, 0.15);\n",
              "      filter: drop-shadow(0px 1px 2px rgba(0, 0, 0, 0.3));\n",
              "      fill: #FFFFFF;\n",
              "    }\n",
              "  </style>\n",
              "\n",
              "      <script>\n",
              "        const buttonEl =\n",
              "          document.querySelector('#df-72a9531f-932a-4db7-8829-290aea017748 button.colab-df-convert');\n",
              "        buttonEl.style.display =\n",
              "          google.colab.kernel.accessAllowed ? 'block' : 'none';\n",
              "\n",
              "        async function convertToInteractive(key) {\n",
              "          const element = document.querySelector('#df-72a9531f-932a-4db7-8829-290aea017748');\n",
              "          const dataTable =\n",
              "            await google.colab.kernel.invokeFunction('convertToInteractive',\n",
              "                                                     [key], {});\n",
              "          if (!dataTable) return;\n",
              "\n",
              "          const docLinkHtml = 'Like what you see? Visit the ' +\n",
              "            '<a target=\"_blank\" href=https://colab.research.google.com/notebooks/data_table.ipynb>data table notebook</a>'\n",
              "            + ' to learn more about interactive tables.';\n",
              "          element.innerHTML = '';\n",
              "          dataTable['output_type'] = 'display_data';\n",
              "          await google.colab.output.renderOutput(dataTable, element);\n",
              "          const docLink = document.createElement('div');\n",
              "          docLink.innerHTML = docLinkHtml;\n",
              "          element.appendChild(docLink);\n",
              "        }\n",
              "      </script>\n",
              "    </div>\n",
              "  </div>\n",
              "  "
            ]
          },
          "metadata": {},
          "execution_count": 6
        }
      ]
    },
    {
      "cell_type": "code",
      "source": [
        "train_data = train_df.values\n",
        "val_data = val_df.values\n",
        "test_data = test_df.values\n",
        "\n",
        "train_data.shape"
      ],
      "metadata": {
        "colab": {
          "base_uri": "https://localhost:8080/"
        },
        "id": "Rq2SG7UbjxPC",
        "outputId": "933ed41d-16b0-48e8-ecf0-56989b9684fa"
      },
      "execution_count": 7,
      "outputs": [
        {
          "output_type": "execute_result",
          "data": {
            "text/plain": [
              "(25998, 2500)"
            ]
          },
          "metadata": {},
          "execution_count": 7
        }
      ]
    },
    {
      "cell_type": "code",
      "source": [
        "from sklearn.preprocessing import LabelBinarizer\n",
        "label_binarizer = LabelBinarizer()\n",
        "train_label = label_binarizer.fit_transform(train_label)\n",
        "val_label = label_binarizer.fit_transform(val_label)\n",
        "test_label = label_binarizer.fit_transform(test_label)\n",
        "train_label[:5]"
      ],
      "metadata": {
        "id": "fCJTb9Vu02cS",
        "colab": {
          "base_uri": "https://localhost:8080/"
        },
        "outputId": "9f8beeb0-14d1-48ec-e8e1-d6458ce3f0ac"
      },
      "execution_count": 8,
      "outputs": [
        {
          "output_type": "execute_result",
          "data": {
            "text/plain": [
              "array([[0, 0, 0, 0, 0, 0, 0, 0, 0, 0, 0, 0, 0, 0, 1, 0, 0, 0, 0, 0, 0, 0,\n",
              "        0, 0, 0, 0],\n",
              "       [0, 0, 0, 0, 0, 0, 0, 0, 0, 0, 0, 0, 0, 0, 1, 0, 0, 0, 0, 0, 0, 0,\n",
              "        0, 0, 0, 0],\n",
              "       [0, 0, 0, 0, 0, 0, 1, 0, 0, 0, 0, 0, 0, 0, 0, 0, 0, 0, 0, 0, 0, 0,\n",
              "        0, 0, 0, 0],\n",
              "       [0, 0, 0, 0, 0, 0, 0, 0, 0, 0, 1, 0, 0, 0, 0, 0, 0, 0, 0, 0, 0, 0,\n",
              "        0, 0, 0, 0],\n",
              "       [0, 0, 0, 0, 0, 0, 0, 0, 0, 0, 0, 0, 0, 0, 0, 0, 1, 0, 0, 0, 0, 0,\n",
              "        0, 0, 0, 0]])"
            ]
          },
          "metadata": {},
          "execution_count": 8
        }
      ]
    },
    {
      "cell_type": "code",
      "source": [
        "# Normalize the data\n",
        "train_data = train_data / 255.0\n",
        "val_data = val_data / 255.0\n",
        "test_data = test_data / 255.0"
      ],
      "metadata": {
        "id": "4duFgQcbn-un"
      },
      "execution_count": 9,
      "outputs": []
    },
    {
      "cell_type": "code",
      "source": [
        "# Reshaping the data from 1-D to 3-D as required through input by CNN's\n",
        "train_data = train_data.reshape(-1,50,50,1)\n",
        "val_data = val_data.reshape(-1,50,50,1)\n",
        "test_data = test_data.reshape(-1,50,50,1)"
      ],
      "metadata": {
        "id": "rGqlR27Nod01"
      },
      "execution_count": 10,
      "outputs": []
    },
    {
      "cell_type": "code",
      "source": [
        "import matplotlib.pyplot as plt\n",
        "\n",
        "f, ax = plt.subplots(2,5) \n",
        "f.set_size_inches(10, 10)\n",
        "k = 0\n",
        "for i in range(2):\n",
        "    for j in range(5):\n",
        "        ax[i,j].imshow(train_data[k].reshape(50, 50), cmap='gray')\n",
        "        k += 1\n",
        "    plt.tight_layout()    "
      ],
      "metadata": {
        "colab": {
          "base_uri": "https://localhost:8080/",
          "height": 524
        },
        "id": "2yD6doxco7MF",
        "outputId": "efe3dabd-107f-413e-e653-87e047b2519c"
      },
      "execution_count": 11,
      "outputs": [
        {
          "output_type": "display_data",
          "data": {
            "text/plain": [
              "<Figure size 1000x1000 with 10 Axes>"
            ],
            "image/png": "[encoded data removed]"
          },
          "metadata": {}
        }
      ]
    },
    {
      "cell_type": "code",
      "source": [
        "# With data augmentation to prevent overfitting\n",
        "\n",
        "datagen = tf.keras.preprocessing.image.ImageDataGenerator(\n",
        "        featurewise_center=False,  # set input mean to 0 over the dataset\n",
        "        samplewise_center=False,  # set each sample mean to 0\n",
        "        featurewise_std_normalization=False,  # divide inputs by std of the dataset\n",
        "        samplewise_std_normalization=False,  # divide each input by its std\n",
        "        zca_whitening=False,  # apply ZCA whitening\n",
        "        rotation_range=10,  # randomly rotate images in the range (degrees, 0 to 180)\n",
        "        zoom_range = 0.1, # Randomly zoom image \n",
        "        width_shift_range=0.1,  # randomly shift images horizontally (fraction of total width)\n",
        "        height_shift_range=0.1,  # randomly shift images vertically (fraction of total height)\n",
        "        horizontal_flip=False,  # randomly flip images\n",
        "        vertical_flip=False)  # randomly flip images\n",
        "\n",
        "\n",
        "datagen.fit(train_data)"
      ],
      "metadata": {
        "id": "N0vrjHgPpHoz"
      },
      "execution_count": 12,
      "outputs": []
    },
    {
      "cell_type": "code",
      "source": [
        "class AccuracyCallback(tf.keras.callbacks.Callback):\n",
        "    def __init__(self, target_accuracy):\n",
        "        super(AccuracyCallback, self).__init__()\n",
        "        self.target_accuracy = target_accuracy\n",
        "\n",
        "    def on_epoch_end(self, epoch, logs=None):\n",
        "        if logs['accuracy'] >= self.target_accuracy:\n",
        "            print(f\"\\nReached target accuracy of {self.target_accuracy*100}%\")\n",
        "            self.model.stop_training = True"
      ],
      "metadata": {
        "id": "MaAYoA17vQmP"
      },
      "execution_count": 13,
      "outputs": []
    },
    {
      "cell_type": "code",
      "source": [
        "model = tf.keras.models.Sequential([\n",
        "  tf.keras.layers.Conv2D(125 , (3,3) , strides = 1 , padding = 'same' , activation = 'relu' , input_shape = (50,50,1)),\n",
        "  tf.keras.layers.BatchNormalization(),\n",
        "  tf.keras.layers.MaxPool2D((2,2) , strides = 2 , padding = 'same'),\n",
        "  tf.keras.layers.Conv2D(100 , (3,3) , strides = 1 , padding = 'same' , activation = 'relu'),\n",
        "  tf.keras.layers.Dropout(0.2),\n",
        "  tf.keras.layers.BatchNormalization(),\n",
        "  tf.keras.layers.MaxPool2D((2,2) , strides = 2 , padding = 'same'),\n",
        "  tf.keras.layers.Conv2D(75 , (3,3) , strides = 1 , padding = 'same' , activation = 'relu'),\n",
        "  tf.keras.layers.BatchNormalization(),\n",
        "  tf.keras.layers.MaxPool2D((2,2) , strides = 2 , padding = 'same'),\n",
        "  tf.keras.layers.Flatten(),\n",
        "  tf.keras.layers.Dense(units = 512 , activation = 'relu'),\n",
        "  tf.keras.layers.Dropout(0.3),\n",
        "  tf.keras.layers.Dense(units = 26 , activation = 'softmax')\n",
        "])\n",
        "\n",
        "model.compile(optimizer = 'adam' , loss = 'categorical_crossentropy' , metrics = ['accuracy'])\n",
        "\n",
        "model.summary()"
      ],
      "metadata": {
        "colab": {
          "base_uri": "https://localhost:8080/"
        },
        "id": "1C3Mgkahp2Mf",
        "outputId": "8cf028bd-e902-40c1-f9bb-c4fb02c10dfe"
      },
      "execution_count": 14,
      "outputs": [
        {
          "output_type": "stream",
          "name": "stdout",
          "text": [
            "Model: \"sequential\"\n",
            "_________________________________________________________________\n",
            " Layer (type)                Output Shape              Param #   \n",
            "=================================================================\n",
            " conv2d (Conv2D)             (None, 50, 50, 125)       1250      \n",
            "                                                                 \n",
            " batch_normalization (BatchN  (None, 50, 50, 125)      500       \n",
            " ormalization)                                                   \n",
            "                                                                 \n",
            " max_pooling2d (MaxPooling2D  (None, 25, 25, 125)      0         \n",
            " )                                                               \n",
            "                                                                 \n",
            " conv2d_1 (Conv2D)           (None, 25, 25, 100)       112600    \n",
            "                                                                 \n",
            " dropout (Dropout)           (None, 25, 25, 100)       0         \n",
            "                                                                 \n",
            " batch_normalization_1 (Batc  (None, 25, 25, 100)      400       \n",
            " hNormalization)                                                 \n",
            "                                                                 \n",
            " max_pooling2d_1 (MaxPooling  (None, 13, 13, 100)      0         \n",
            " 2D)                                                             \n",
            "                                                                 \n",
            " conv2d_2 (Conv2D)           (None, 13, 13, 75)        67575     \n",
            "                                                                 \n",
            " batch_normalization_2 (Batc  (None, 13, 13, 75)       300       \n",
            " hNormalization)                                                 \n",
            "                                                                 \n",
            " max_pooling2d_2 (MaxPooling  (None, 7, 7, 75)         0         \n",
            " 2D)                                                             \n",
            "                                                                 \n",
            " flatten (Flatten)           (None, 3675)              0         \n",
            "                                                                 \n",
            " dense (Dense)               (None, 512)               1882112   \n",
            "                                                                 \n",
            " dropout_1 (Dropout)         (None, 512)               0         \n",
            "                                                                 \n",
            " dense_1 (Dense)             (None, 26)                13338     \n",
            "                                                                 \n",
            "=================================================================\n",
            "Total params: 2,078,075\n",
            "Trainable params: 2,077,475\n",
            "Non-trainable params: 600\n",
            "_________________________________________________________________\n"
          ]
        }
      ]
    },
    {
      "cell_type": "code",
      "source": [
        "# Define your callback\n",
        "target_accuracy = 0.99\n",
        "accuracy_callback = AccuracyCallback(target_accuracy)\n",
        "\n",
        "# Train the model with the callback\n",
        "history = model.fit(datagen.flow(train_data, train_label, batch_size = 128),\n",
        "                    epochs = 30, \n",
        "                    validation_data = (val_data, val_label),\n",
        "                    callbacks = [accuracy_callback])"
      ],
      "metadata": {
        "colab": {
          "base_uri": "https://localhost:8080/"
        },
        "id": "xpQe_qsKw76W",
        "outputId": "cc14727a-2a82-4cb9-e923-f70a86d190a9"
      },
      "execution_count": 15,
      "outputs": [
        {
          "output_type": "stream",
          "name": "stdout",
          "text": [
            "Epoch 1/30\n",
            "204/204 [==============================] - 41s 127ms/step - loss: 2.5476 - accuracy: 0.2751 - val_loss: 3.7564 - val_accuracy: 0.0286\n",
            "Epoch 2/30\n",
            "204/204 [==============================] - 22s 107ms/step - loss: 1.4132 - accuracy: 0.5642 - val_loss: 3.7630 - val_accuracy: 0.0920\n",
            "Epoch 3/30\n",
            "204/204 [==============================] - 19s 92ms/step - loss: 0.9510 - accuracy: 0.6966 - val_loss: 1.2385 - val_accuracy: 0.6023\n",
            "Epoch 4/30\n",
            "204/204 [==============================] - 24s 115ms/step - loss: 0.7330 - accuracy: 0.7666 - val_loss: 0.9735 - val_accuracy: 0.6793\n",
            "Epoch 5/30\n",
            "204/204 [==============================] - 23s 112ms/step - loss: 0.6040 - accuracy: 0.8071 - val_loss: 0.3586 - val_accuracy: 0.8895\n",
            "Epoch 6/30\n",
            "204/204 [==============================] - 19s 95ms/step - loss: 0.4970 - accuracy: 0.8394 - val_loss: 0.5670 - val_accuracy: 0.8212\n",
            "Epoch 7/30\n",
            "204/204 [==============================] - 27s 134ms/step - loss: 0.4203 - accuracy: 0.8618 - val_loss: 0.4477 - val_accuracy: 0.8873\n",
            "Epoch 8/30\n",
            "204/204 [==============================] - 23s 113ms/step - loss: 0.3743 - accuracy: 0.8786 - val_loss: 0.2903 - val_accuracy: 0.9194\n",
            "Epoch 9/30\n",
            "204/204 [==============================] - 22s 105ms/step - loss: 0.3332 - accuracy: 0.8935 - val_loss: 0.4559 - val_accuracy: 0.8750\n",
            "Epoch 10/30\n",
            "204/204 [==============================] - 25s 120ms/step - loss: 0.3233 - accuracy: 0.8962 - val_loss: 0.2797 - val_accuracy: 0.9252\n",
            "Epoch 11/30\n",
            "204/204 [==============================] - 17s 84ms/step - loss: 0.2784 - accuracy: 0.9080 - val_loss: 0.3432 - val_accuracy: 0.9154\n",
            "Epoch 12/30\n",
            "204/204 [==============================] - 18s 90ms/step - loss: 0.2555 - accuracy: 0.9173 - val_loss: 0.2757 - val_accuracy: 0.9274\n",
            "Epoch 13/30\n",
            "204/204 [==============================] - 17s 83ms/step - loss: 0.2335 - accuracy: 0.9250 - val_loss: 0.2709 - val_accuracy: 0.9292\n",
            "Epoch 14/30\n",
            "204/204 [==============================] - 17s 84ms/step - loss: 0.2117 - accuracy: 0.9291 - val_loss: 0.1955 - val_accuracy: 0.9535\n",
            "Epoch 15/30\n",
            "204/204 [==============================] - 18s 88ms/step - loss: 0.2075 - accuracy: 0.9342 - val_loss: 0.3246 - val_accuracy: 0.9212\n",
            "Epoch 16/30\n",
            "204/204 [==============================] - 19s 92ms/step - loss: 0.1944 - accuracy: 0.9358 - val_loss: 0.2496 - val_accuracy: 0.9483\n",
            "Epoch 17/30\n",
            "204/204 [==============================] - 18s 89ms/step - loss: 0.1943 - accuracy: 0.9363 - val_loss: 0.2854 - val_accuracy: 0.9455\n",
            "Epoch 18/30\n",
            "204/204 [==============================] - 17s 85ms/step - loss: 0.1810 - accuracy: 0.9423 - val_loss: 0.6048 - val_accuracy: 0.8446\n",
            "Epoch 19/30\n",
            "204/204 [==============================] - 17s 84ms/step - loss: 0.1739 - accuracy: 0.9430 - val_loss: 0.4128 - val_accuracy: 0.8929\n",
            "Epoch 20/30\n",
            "204/204 [==============================] - 17s 83ms/step - loss: 0.1668 - accuracy: 0.9465 - val_loss: 0.2549 - val_accuracy: 0.9332\n",
            "Epoch 21/30\n",
            "204/204 [==============================] - 18s 89ms/step - loss: 0.1685 - accuracy: 0.9463 - val_loss: 0.2748 - val_accuracy: 0.9409\n",
            "Epoch 22/30\n",
            "204/204 [==============================] - 17s 83ms/step - loss: 0.1454 - accuracy: 0.9522 - val_loss: 0.1806 - val_accuracy: 0.9520\n",
            "Epoch 23/30\n",
            "204/204 [==============================] - 18s 86ms/step - loss: 0.1524 - accuracy: 0.9507 - val_loss: 0.4478 - val_accuracy: 0.8923\n",
            "Epoch 24/30\n",
            "204/204 [==============================] - 17s 83ms/step - loss: 0.1353 - accuracy: 0.9545 - val_loss: 0.3813 - val_accuracy: 0.9157\n",
            "Epoch 25/30\n",
            "204/204 [==============================] - 17s 84ms/step - loss: 0.1473 - accuracy: 0.9526 - val_loss: 0.3702 - val_accuracy: 0.9224\n",
            "Epoch 26/30\n",
            "204/204 [==============================] - 17s 84ms/step - loss: 0.1406 - accuracy: 0.9543 - val_loss: 0.2744 - val_accuracy: 0.9360\n",
            "Epoch 27/30\n",
            "204/204 [==============================] - 18s 86ms/step - loss: 0.1338 - accuracy: 0.9570 - val_loss: 0.2756 - val_accuracy: 0.9458\n",
            "Epoch 28/30\n",
            "204/204 [==============================] - 17s 84ms/step - loss: 0.1214 - accuracy: 0.9610 - val_loss: 0.3677 - val_accuracy: 0.9283\n",
            "Epoch 29/30\n",
            "204/204 [==============================] - 18s 86ms/step - loss: 0.1210 - accuracy: 0.9613 - val_loss: 0.4293 - val_accuracy: 0.9144\n",
            "Epoch 30/30\n",
            "204/204 [==============================] - 17s 84ms/step - loss: 0.1121 - accuracy: 0.9637 - val_loss: 0.2329 - val_accuracy: 0.9640\n"
          ]
        }
      ]
    },
    {
      "cell_type": "code",
      "source": [
        "print(\"Accuracy of the model is - \" , model.evaluate(val_data,val_label)[1]*100 , \"%\")"
      ],
      "metadata": {
        "colab": {
          "base_uri": "https://localhost:8080/"
        },
        "id": "jKWTvvGrVXHV",
        "outputId": "cf94bcb0-1383-4cab-efba-d17c919024e3"
      },
      "execution_count": 16,
      "outputs": [
        {
          "output_type": "stream",
          "name": "stdout",
          "text": [
            "102/102 [==============================] - 0s 5ms/step - loss: 0.2329 - accuracy: 0.9640\n",
            "Accuracy of the model is -  96.39889001846313 %\n"
          ]
        }
      ]
    },
    {
      "cell_type": "code",
      "source": [
        "import matplotlib.pyplot as plt\n",
        "\n",
        "# Plot the results\n",
        "acc = history.history['accuracy']\n",
        "val_acc = history.history['val_accuracy']\n",
        "loss = history.history['loss']\n",
        "val_loss = history.history['val_loss']\n",
        "\n",
        "epochs = range(len(acc))\n",
        "\n",
        "plt.plot(epochs, acc, 'r', label='Training accuracy')\n",
        "plt.plot(epochs, val_acc, 'b', label='Validation accuracy')\n",
        "plt.title('Training and validation accuracy')\n",
        "plt.legend(loc=0)\n",
        "plt.figure()\n",
        "\n",
        "plt.show()"
      ],
      "metadata": {
        "colab": {
          "base_uri": "https://localhost:8080/",
          "height": 469
        },
        "id": "V2UWHrhBIaPL",
        "outputId": "b9c8a16d-d4b2-4b0a-c12f-760eda6d90ae"
      },
      "execution_count": 17,
      "outputs": [
        {
          "output_type": "display_data",
          "data": {
            "text/plain": [
              "<Figure size 640x480 with 1 Axes>"
            ],
            "image/png": "[encoded data removed]"
          },
          "metadata": {}
        },
        {
          "output_type": "display_data",
          "data": {
            "text/plain": [
              "<Figure size 640x480 with 0 Axes>"
            ]
          },
          "metadata": {}
        }
      ]
    },
    {
      "cell_type": "code",
      "source": [
        "predictions = model.predict(test_data)\n",
        "import numpy as np\n",
        "print(np.argmax(test_label[:20], axis=1))\n",
        "print(np.argmax(predictions[:20], axis=1))"
      ],
      "metadata": {
        "colab": {
          "base_uri": "https://localhost:8080/"
        },
        "id": "vvOauk8WbHyo",
        "outputId": "e1be167b-80df-4d4a-9a3d-095c0913bd37"
      },
      "execution_count": 18,
      "outputs": [
        {
          "output_type": "stream",
          "name": "stdout",
          "text": [
            "102/102 [==============================] - 1s 4ms/step\n",
            "[ 5 15  7  3 10 18 24 15  1 11  3 17 18  9  1 17 22 12 24 17]\n",
            "[ 5 15  7  3 10 18 24 15  1 11  3 20 18  9  1 17 22 12 24 17]\n"
          ]
        }
      ]
    },
    {
      "cell_type": "code",
      "source": [
        "from sklearn.metrics import confusion_matrix\n",
        "import seaborn as sns\n",
        "cm = confusion_matrix(np.argmax(test_label, axis=1), np.argmax(predictions, axis=1))\n",
        "cm = pd.DataFrame(cm , index = [i for i in range(27) if i != 9] , columns = [i for i in range(27) if i != 9])\n",
        "plt.figure(figsize = (12,12))\n",
        "sns.heatmap(cm,cmap= \"Blues\", linecolor = 'black' , linewidth = 1 , annot = True, fmt='')"
      ],
      "metadata": {
        "colab": {
          "base_uri": "https://localhost:8080/",
          "height": 1000
        },
        "id": "IQkrUaFcJ_dY",
        "outputId": "98954b23-9d2e-4244-e14f-7f5b75293848"
      },
      "execution_count": 19,
      "outputs": [
        {
          "output_type": "execute_result",
          "data": {
            "text/plain": [
              "<Axes: >"
            ]
          },
          "metadata": {},
          "execution_count": 19
        },
        {
          "output_type": "display_data",
          "data": {
            "text/plain": [
              "<Figure size 1200x1200 with 2 Axes>"
            ],
            "image/png": "[encoded data removed]"
          },
          "metadata": {}
        }
      ]
    },
    {
      "cell_type": "markdown",
      "source": [
        "**Save model to TFJS**"
      ],
      "metadata": {
        "id": "ItL9Ux5I2m_Y"
      }
    },
    {
      "cell_type": "code",
      "source": [
        "saved_model_path = \"./bicaraku.h5\"\n",
        "\n",
        "model.save(saved_model_path)"
      ],
      "metadata": {
        "id": "i4OQv8zPT0kL"
      },
      "execution_count": 23,
      "outputs": []
    },
    {
      "cell_type": "code",
      "source": [
        "#!tensorflowjs_converter --input_format=keras {saved_model_path} ./"
      ],
      "metadata": {
        "colab": {
          "base_uri": "https://localhost:8080/"
        },
        "id": "ybhLk8giUUtx",
        "outputId": "1d1d538d-82f6-43a8-f17b-b9d4e0d37745"
      },
      "execution_count": null,
      "outputs": [
        {
          "output_type": "stream",
          "name": "stdout",
          "text": [
            "2023-05-24 01:28:13.845409: W tensorflow/compiler/tf2tensorrt/utils/py_utils.cc:38] TF-TRT Warning: Could not find TensorRT\n"
          ]
        }
      ]
    },
    {
      "cell_type": "markdown",
      "source": [
        "**Save model to TFLite**"
      ],
      "metadata": {
        "id": "Jr8yi-Zf2sJd"
      }
    },
    {
      "cell_type": "code",
      "source": [
        "# Load the Keras model\n",
        "model = tf.keras.models.load_model('bicaraku.h5')\n",
        "\n",
        "# Convert Keras model to TensorFlow Lite format\n",
        "converter = tf.lite.TFLiteConverter.from_keras_model(model)\n",
        "tflite_model = converter.convert()\n",
        "\n",
        "# Save the TensorFlow Lite model to a file\n",
        "with open('my_model.tflite', 'wb') as f:\n",
        "    f.write(tflite_model)"
      ],
      "metadata": {
        "colab": {
          "base_uri": "https://localhost:8080/"
        },
        "id": "a1XFJS3k72aa",
        "outputId": "4e177f52-26dd-4118-ec4c-37022fe6ed88"
      },
      "execution_count": 28,
      "outputs": [
        {
          "output_type": "stream",
          "name": "stderr",
          "text": [
            "WARNING:absl:Found untraced functions such as _jit_compiled_convolution_op, _jit_compiled_convolution_op, _jit_compiled_convolution_op, _update_step_xla while saving (showing 4 of 4). These functions will not be directly callable after loading.\n"
          ]
        }
      ]
    }
  ]
}